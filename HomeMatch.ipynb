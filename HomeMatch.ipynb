{
 "cells": [
  {
   "cell_type": "code",
   "execution_count": null,
   "id": "08920e96",
   "metadata": {
    "id": "08920e96"
   },
   "outputs": [],
   "source": [
    "!pip install --upgrade torch torchvision torchaudio --index-url https://download.pytorch.org/whl/cu121\n",
    "!pip install --upgrade transformers\n",
    "!pip install diffusers\n",
    "!pip install --upgrade langchain\n",
    "!pip install langchain-community\n",
    "!pip install langchain-openai\n",
    "!pip install --upgrade pydantic\n",
    "!pip install pydantic-settings\n",
    "!pip install --upgrade chromadb\n",
    "!pip install -q git+https://github.com/huggingface/transformers.git "
   ]
  },
  {
   "cell_type": "markdown",
   "id": "60448827",
   "metadata": {
    "id": "60448827"
   },
   "source": [
    "## Table of Contents\n",
    "1. [Setup and Installation](#SETUP)\n",
    "2. [LLM Prompt and Listing Generation](#LLM)\n",
    "3. [Saving Listings](#SAVING)\n",
    "4. [SD Prompt and Image Generation](#SD)\n",
    "5. [Generate Image Embeddings](#IMAGE-EMBEDDINGS)\n",
    "6. [Generate Text Embeddings](#TEXT-EMBEDDINGS)\n",
    "7. [Combining Text+Image Embeddings](#COMBINED-EMBEDDINGS)\n",
    "8. [Writing Listings to Database](#CHROMA-DB)\n",
    "9. [Getting Buyer Profile](#PROFILE)\n",
    "10. [Generate Personalized Listings](#P-LISTINGS)\n",
    "11. [Saving Personalized Listings](#SP-LISTINGS)\n",
    "12. [Execution Blocks](#BLOCKS)\n",
    "13. [Main Execution Block](#MAIN)"
   ]
  },
  {
   "cell_type": "markdown",
   "id": "bd07e32f",
   "metadata": {
    "id": "bd07e32f"
   },
   "source": [
    "## Setup and Installation <a id='SETUP'></a>"
   ]
  },
  {
   "cell_type": "code",
   "execution_count": 4,
   "id": "6554fd4c",
   "metadata": {
    "executionInfo": {
     "elapsed": 33547,
     "status": "ok",
     "timestamp": 1749150681593,
     "user": {
      "displayName": "prabuddh rai",
      "userId": "13318045156076495622"
     },
     "user_tz": 300
    },
    "id": "6554fd4c"
   },
   "outputs": [
    {
     "name": "stderr",
     "output_type": "stream",
     "text": [
      "/opt/conda/lib/python3.10/site-packages/torchvision/io/image.py:13: UserWarning: Failed to load image Python extension: '/opt/conda/lib/python3.10/site-packages/torchvision/image.so: undefined symbol: _ZN3c1017RegisterOperatorsD1Ev'If you don't plan on using image functionality from `torchvision.io`, you can ignore this warning. Otherwise, there might be something wrong with your environment. Did you have `libjpeg` or `libpng` installed before building `torchvision` from source?\n",
      "  warn(\n"
     ]
    }
   ],
   "source": [
    "import torch\n",
    "import numpy as np\n",
    "import os\n",
    "import gc\n",
    "import re\n",
    "import json\n",
    "import shutil\n",
    "import chromadb\n",
    "from chromadb.config import Settings\n",
    "from langchain_openai import ChatOpenAI\n",
    "#from diffusers import StableDiffusionPipeline\n",
    "from transformers import ColQwen2ForRetrieval, ColQwen2Processor\n",
    "from PIL import Image"
   ]
  },
  {
   "cell_type": "code",
   "execution_count": null,
   "id": "79768e10",
   "metadata": {
    "executionInfo": {
     "elapsed": 52,
     "status": "ok",
     "timestamp": 1749155271211,
     "user": {
      "displayName": "prabuddh rai",
      "userId": "13318045156076495622"
     },
     "user_tz": 300
    },
    "id": "79768e10"
   },
   "outputs": [],
   "source": [
    "os.environ[\"OPENAI_API_KEY\"] = \"YOUR API KEY\"\n",
    "os.environ[\"OPENAI_API_BASE\"] = \"https://openai.vocareum.com/v1\""
   ]
  },
  {
   "cell_type": "code",
   "execution_count": 5,
   "id": "475eedb0",
   "metadata": {},
   "outputs": [
    {
     "data": {
      "application/vnd.jupyter.widget-view+json": {
       "model_id": "e4af393a481e481989c2b0fdec486343",
       "version_major": 2,
       "version_minor": 0
      },
      "text/plain": [
       "model_index.json:   0%|          | 0.00/541 [00:00<?, ?B/s]"
      ]
     },
     "metadata": {},
     "output_type": "display_data"
    },
    {
     "data": {
      "application/vnd.jupyter.widget-view+json": {
       "model_id": "e50da4d01f0345ab92ce87393ac864ca",
       "version_major": 2,
       "version_minor": 0
      },
      "text/plain": [
       "Fetching 15 files:   0%|          | 0/15 [00:00<?, ?it/s]"
      ]
     },
     "metadata": {},
     "output_type": "display_data"
    },
    {
     "data": {
      "application/vnd.jupyter.widget-view+json": {
       "model_id": "ef14a97cc72f4bd5843c1dd1fc675caa",
       "version_major": 2,
       "version_minor": 0
      },
      "text/plain": [
       "tokenizer/merges.txt:   0%|          | 0.00/525k [00:00<?, ?B/s]"
      ]
     },
     "metadata": {},
     "output_type": "display_data"
    },
    {
     "data": {
      "application/vnd.jupyter.widget-view+json": {
       "model_id": "7c0a311b485f4696a02fdc68a18f68e1",
       "version_major": 2,
       "version_minor": 0
      },
      "text/plain": [
       "scheduler/scheduler_config.json:   0%|          | 0.00/308 [00:00<?, ?B/s]"
      ]
     },
     "metadata": {},
     "output_type": "display_data"
    },
    {
     "data": {
      "application/vnd.jupyter.widget-view+json": {
       "model_id": "b159c65920ad4212b5a51a00364b7630",
       "version_major": 2,
       "version_minor": 0
      },
      "text/plain": [
       "text_encoder/model.fp16.safetensors:   0%|          | 0.00/246M [00:00<?, ?B/s]"
      ]
     },
     "metadata": {},
     "output_type": "display_data"
    },
    {
     "data": {
      "application/vnd.jupyter.widget-view+json": {
       "model_id": "454f7b18914541afb6f5dc4d23857af4",
       "version_major": 2,
       "version_minor": 0
      },
      "text/plain": [
       "tokenizer/special_tokens_map.json:   0%|          | 0.00/472 [00:00<?, ?B/s]"
      ]
     },
     "metadata": {},
     "output_type": "display_data"
    },
    {
     "data": {
      "application/vnd.jupyter.widget-view+json": {
       "model_id": "52667218216e4131a1cf0a1c9dacb2f3",
       "version_major": 2,
       "version_minor": 0
      },
      "text/plain": [
       "(…)ature_extractor/preprocessor_config.json:   0%|          | 0.00/342 [00:00<?, ?B/s]"
      ]
     },
     "metadata": {},
     "output_type": "display_data"
    },
    {
     "data": {
      "application/vnd.jupyter.widget-view+json": {
       "model_id": "330e5daeeed843efb31d45b942ac79cf",
       "version_major": 2,
       "version_minor": 0
      },
      "text/plain": [
       "safety_checker/model.fp16.safetensors:   0%|          | 0.00/608M [00:00<?, ?B/s]"
      ]
     },
     "metadata": {},
     "output_type": "display_data"
    },
    {
     "data": {
      "application/vnd.jupyter.widget-view+json": {
       "model_id": "4ac20ca8713544358fbcdd391dbd7567",
       "version_major": 2,
       "version_minor": 0
      },
      "text/plain": [
       "safety_checker/config.json:   0%|          | 0.00/4.72k [00:00<?, ?B/s]"
      ]
     },
     "metadata": {},
     "output_type": "display_data"
    },
    {
     "data": {
      "application/vnd.jupyter.widget-view+json": {
       "model_id": "9d66a6d85edc4753a434891504c4eb90",
       "version_major": 2,
       "version_minor": 0
      },
      "text/plain": [
       "text_encoder/config.json:   0%|          | 0.00/617 [00:00<?, ?B/s]"
      ]
     },
     "metadata": {},
     "output_type": "display_data"
    },
    {
     "data": {
      "application/vnd.jupyter.widget-view+json": {
       "model_id": "b528bd7f5c814fbb9cbea9541e61041a",
       "version_major": 2,
       "version_minor": 0
      },
      "text/plain": [
       "tokenizer/vocab.json:   0%|          | 0.00/1.06M [00:00<?, ?B/s]"
      ]
     },
     "metadata": {},
     "output_type": "display_data"
    },
    {
     "data": {
      "application/vnd.jupyter.widget-view+json": {
       "model_id": "f42b5a2175474a2ea2588818ff92e7e9",
       "version_major": 2,
       "version_minor": 0
      },
      "text/plain": [
       "unet/config.json:   0%|          | 0.00/743 [00:00<?, ?B/s]"
      ]
     },
     "metadata": {},
     "output_type": "display_data"
    },
    {
     "data": {
      "application/vnd.jupyter.widget-view+json": {
       "model_id": "a7777707c57e48a694e511b648531278",
       "version_major": 2,
       "version_minor": 0
      },
      "text/plain": [
       "vae/config.json:   0%|          | 0.00/547 [00:00<?, ?B/s]"
      ]
     },
     "metadata": {},
     "output_type": "display_data"
    },
    {
     "data": {
      "application/vnd.jupyter.widget-view+json": {
       "model_id": "e5b2021a82b742dfa235bb0b134004bf",
       "version_major": 2,
       "version_minor": 0
      },
      "text/plain": [
       "(…)diffusion_pytorch_model.fp16.safetensors:   0%|          | 0.00/1.72G [00:00<?, ?B/s]"
      ]
     },
     "metadata": {},
     "output_type": "display_data"
    },
    {
     "data": {
      "application/vnd.jupyter.widget-view+json": {
       "model_id": "40bee6d06148459186d91ff240286176",
       "version_major": 2,
       "version_minor": 0
      },
      "text/plain": [
       "tokenizer/tokenizer_config.json:   0%|          | 0.00/806 [00:00<?, ?B/s]"
      ]
     },
     "metadata": {},
     "output_type": "display_data"
    },
    {
     "data": {
      "application/vnd.jupyter.widget-view+json": {
       "model_id": "11969caa56ed4dc78ecaec47a5ece785",
       "version_major": 2,
       "version_minor": 0
      },
      "text/plain": [
       "(…)diffusion_pytorch_model.fp16.safetensors:   0%|          | 0.00/167M [00:00<?, ?B/s]"
      ]
     },
     "metadata": {},
     "output_type": "display_data"
    },
    {
     "data": {
      "application/vnd.jupyter.widget-view+json": {
       "model_id": "2c1c4f45d8b840bb8d447e8434d523d6",
       "version_major": 2,
       "version_minor": 0
      },
      "text/plain": [
       "Loading pipeline components...:   0%|          | 0/7 [00:00<?, ?it/s]"
      ]
     },
     "metadata": {},
     "output_type": "display_data"
    },
    {
     "name": "stderr",
     "output_type": "stream",
     "text": [
      "`text_config_dict` is provided which will be used to initialize `CLIPTextConfig`. The value `text_config[\"id2label\"]` will be overriden.\n",
      "`text_config_dict` is provided which will be used to initialize `CLIPTextConfig`. The value `text_config[\"bos_token_id\"]` will be overriden.\n",
      "`text_config_dict` is provided which will be used to initialize `CLIPTextConfig`. The value `text_config[\"eos_token_id\"]` will be overriden.\n"
     ]
    }
   ],
   "source": [
    "#Only ran this cell once to load model when \"Cuda\" was available.\n",
    "#sd_pipe = StableDiffusionPipeline.from_pretrained(\"runwayml/stable-diffusion-v1-5\",\n",
    "#                                                  torch_dtype=torch.float16,\n",
    "#                                                  variant=\"fp16\").to(\"cuda\")"
   ]
  },
  {
   "cell_type": "code",
   "execution_count": 6,
   "id": "28acb1a1",
   "metadata": {
    "executionInfo": {
     "elapsed": 27268,
     "status": "ok",
     "timestamp": 1749155300655,
     "user": {
      "displayName": "prabuddh rai",
      "userId": "13318045156076495622"
     },
     "user_tz": 300
    },
    "id": "28acb1a1"
   },
   "outputs": [],
   "source": [
    "#Initializing the required models\n",
    "llm = ChatOpenAI(model=\"gpt-3.5-turbo\", temperature=0.8)\n",
    "model_name = \"vidore/colqwen2-v1.0-hf\"\n",
    "Qwen2_model = ColQwen2ForRetrieval.from_pretrained(\n",
    "    model_name,\n",
    "    torch_dtype=torch.bfloat16,\n",
    ").to(\"cuda\")\n",
    "Qwen2_processor = ColQwen2Processor.from_pretrained(model_name)"
   ]
  },
  {
   "cell_type": "markdown",
   "id": "279300a6",
   "metadata": {
    "id": "279300a6"
   },
   "source": [
    "## LLM Prompt and Listing Generation <a id='LLM'></a>"
   ]
  },
  {
   "cell_type": "code",
   "execution_count": 7,
   "id": "48aa8b1c",
   "metadata": {
    "executionInfo": {
     "elapsed": 7,
     "status": "ok",
     "timestamp": 1749151035878,
     "user": {
      "displayName": "prabuddh rai",
      "userId": "13318045156076495622"
     },
     "user_tz": 300
    },
    "id": "48aa8b1c"
   },
   "outputs": [],
   "source": [
    "prompt_template = \"\"\"\n",
    "You are a helpful real estate assistant.\n",
    "\n",
    "Please generate a realistic real estate listing in the following format:\n",
    "Neighborhood: <neighborhood name>\n",
    "Price: <$xxx,xxx>\n",
    "Bedrooms: <int>\n",
    "Bathrooms: <int>\n",
    "House Size: <sqft>\n",
    "\n",
    "Description: <A paragraph with vivid and enticing details about the house>\n",
    "\n",
    "Neighborhood Description: <A paragraph that describes the neighborhood and nearby amenities>\n",
    "\"\"\""
   ]
  },
  {
   "cell_type": "code",
   "execution_count": 8,
   "id": "2becb569",
   "metadata": {
    "executionInfo": {
     "elapsed": 10,
     "status": "ok",
     "timestamp": 1749151037925,
     "user": {
      "displayName": "prabuddh rai",
      "userId": "13318045156076495622"
     },
     "user_tz": 300
    },
    "id": "2becb569"
   },
   "outputs": [],
   "source": [
    "def generate_listings(llm, prompt_template, n=10):\n",
    "    return [llm.invoke(prompt_template).content.strip() for _ in range(n)]"
   ]
  },
  {
   "cell_type": "markdown",
   "id": "c5598a0d",
   "metadata": {
    "id": "c5598a0d"
   },
   "source": [
    "## Saving Listings <a id='SAVING'></a>"
   ]
  },
  {
   "cell_type": "code",
   "execution_count": 9,
   "id": "5f56a2cc",
   "metadata": {
    "executionInfo": {
     "elapsed": 3,
     "status": "ok",
     "timestamp": 1749152351331,
     "user": {
      "displayName": "prabuddh rai",
      "userId": "13318045156076495622"
     },
     "user_tz": 300
    },
    "id": "5f56a2cc"
   },
   "outputs": [],
   "source": [
    "def save_listings_to_json(listings, filename=\"listings.json\"):\n",
    "    with open(filename, \"w\") as f:\n",
    "        json.dump(listings, f, indent=2)\n",
    "    return listings\n",
    "\n",
    "def load_listings_from_json(filename=\"listings.json\"):\n",
    "    with open(filename, \"r\") as f:\n",
    "        return json.load(f)"
   ]
  },
  {
   "cell_type": "markdown",
   "id": "e1e82552",
   "metadata": {
    "id": "e1e82552"
   },
   "source": [
    "## SD Prompt and Image Generation <a id='SD'></a>"
   ]
  },
  {
   "cell_type": "code",
   "execution_count": 10,
   "id": "fe7a60ab",
   "metadata": {
    "executionInfo": {
     "elapsed": 8,
     "status": "ok",
     "timestamp": 1749151043357,
     "user": {
      "displayName": "prabuddh rai",
      "userId": "13318045156076495622"
     },
     "user_tz": 300
    },
    "id": "fe7a60ab"
   },
   "outputs": [],
   "source": [
    "def parse_listing_strings(listing_strings):\n",
    "    parsed_listings = []\n",
    "\n",
    "    for listing_str in listing_strings:\n",
    "        # Split by newlines, filter out empty lines with ':'\n",
    "        lines = [line.strip() for line in listing_str.strip().split('\\n') if ':' in line]\n",
    "        listing = {}\n",
    "\n",
    "        for line in lines:\n",
    "            key, value = line.split(':', 1)\n",
    "            listing[key.strip()] = value.strip()\n",
    "\n",
    "        parsed_listings.append(listing)\n",
    "\n",
    "    return parsed_listings\n",
    "\n",
    "\n",
    "def generate_prompts(listing_strings):\n",
    "    parsed_listings = parse_listing_strings(listing_strings)\n",
    "    prompts = []\n",
    "\n",
    "    for listing in parsed_listings:\n",
    "        neighborhood = listing.get(\"Neighborhood\", \"a quiet neighborhood\")\n",
    "        bedrooms = listing.get(\"Bedrooms\", \"3\")\n",
    "        bathrooms = listing.get(\"Bathrooms\", \"2\")\n",
    "        size = listing.get(\"House Size\", \"1800 sqft\").replace(\"sqft\", \"square feet\")\n",
    "        description = listing.get(\"Description\", \"\").strip().replace(\"\\n\", \" \")\n",
    "        neighborhood_desc = listing.get(\"Neighborhood Description\", \"\").strip().replace(\"\\n\", \" \")\n",
    "\n",
    "        prompt = (\n",
    "            f\"Realistic, high-resolution exterior photo of a {bedrooms}-bedroom, {bathrooms}-bathroom home \"\n",
    "            f\"in {neighborhood}. The house is approximately {size}, with features such as {description}. \"\n",
    "            f\"Set in a picturesque neighborhood known for {neighborhood_desc}. \"\n",
    "            f\"Clear blue skies, natural lighting, professional real estate photography.\"\n",
    "        )\n",
    "\n",
    "        prompts.append(prompt)\n",
    "\n",
    "    return prompts"
   ]
  },
  {
   "cell_type": "code",
   "execution_count": 11,
   "id": "1e284352",
   "metadata": {
    "executionInfo": {
     "elapsed": 7,
     "status": "ok",
     "timestamp": 1749151047876,
     "user": {
      "displayName": "prabuddh rai",
      "userId": "13318045156076495622"
     },
     "user_tz": 300
    },
    "id": "1e284352"
   },
   "outputs": [],
   "source": [
    "#Generate and save images\n",
    "def generate_images(pipe,prompts,image_dir = \"listing_images\"):\n",
    "    os.makedirs(image_dir, exist_ok=True)\n",
    "    with torch.no_grad():\n",
    "        for i, prompt in enumerate(prompts):\n",
    "            try:\n",
    "                # Generate image using the pipeline\n",
    "                image = pipe(prompt).images[0]\n",
    "                \n",
    "                # Create a path to save the image\n",
    "                image_path = os.path.join(image_dir, f\"listing_{i}.png\")\n",
    "                \n",
    "                # Save the image\n",
    "                image.save(image_path)\n",
    "                \n",
    "                del image\n",
    "                torch.cuda.empty_cache()\n",
    "                gc.collect()\n",
    "                \n",
    "            except Exception as e:\n",
    "                print(f\"Error processing listing {i}: {e}\")      "
   ]
  },
  {
   "cell_type": "markdown",
   "id": "1b59b0d0",
   "metadata": {
    "id": "1b59b0d0"
   },
   "source": [
    "## Generate Image Embeddings<a id='IMAGE-EMBEDDINGS'></a>"
   ]
  },
  {
   "cell_type": "code",
   "execution_count": 12,
   "id": "9b2a3517",
   "metadata": {
    "executionInfo": {
     "elapsed": 5,
     "status": "ok",
     "timestamp": 1749156438928,
     "user": {
      "displayName": "prabuddh rai",
      "userId": "13318045156076495622"
     },
     "user_tz": 300
    },
    "id": "9b2a3517"
   },
   "outputs": [],
   "source": [
    "def generate_image_embeddings(processor, model, image_folder=\"listing_images\"):\n",
    "    image_embeddings = {}\n",
    "    image_paths = [os.path.join(image_folder, fname) for fname in os.listdir(image_folder) if fname.endswith(\".png\")]\n",
    "    for img_path in image_paths:\n",
    "        image = Image.open(img_path)\n",
    "        listing_key = img_path.split('/')[-1].split('.')[0]\n",
    "        input_image = processor(images=image).to(model.device)\n",
    "        with torch.no_grad():\n",
    "            image_emb = Qwen2_model(**input_image).embeddings\n",
    "            image_embeddings[listing_key] = image_emb.squeeze()[0].cpu().tolist()  # Convert tensor to list\n",
    "\n",
    "    return image_embeddings"
   ]
  },
  {
   "cell_type": "markdown",
   "id": "06e1e296",
   "metadata": {
    "id": "06e1e296"
   },
   "source": [
    "## Generate Text Embeddings<a id='TEXT-EMBEDDINGS'></a>"
   ]
  },
  {
   "cell_type": "code",
   "execution_count": 13,
   "id": "5cd58536",
   "metadata": {
    "executionInfo": {
     "elapsed": 35,
     "status": "ok",
     "timestamp": 1749156684227,
     "user": {
      "displayName": "prabuddh rai",
      "userId": "13318045156076495622"
     },
     "user_tz": 300
    },
    "id": "5cd58536"
   },
   "outputs": [],
   "source": [
    "def generate_text_embeddings(listings, processor, model):\n",
    "    text_embeddings = []\n",
    "\n",
    "    for text in listings:\n",
    "        input_text = processor(text=text).to(model.device)\n",
    "        with torch.no_grad():\n",
    "          text_emb = model(**input_text).embeddings.squeeze()[0].cpu().tolist()\n",
    "        text_embeddings.append(text_emb)\n",
    "\n",
    "    return text_embeddings"
   ]
  },
  {
   "cell_type": "markdown",
   "id": "87671802",
   "metadata": {},
   "source": [
    "## Combining Text+Image Embeddings<a id='COMBINED-EMBEDDINGS'></a>"
   ]
  },
  {
   "cell_type": "code",
   "execution_count": 14,
   "id": "b3fcc890",
   "metadata": {},
   "outputs": [],
   "source": [
    "def fused_embeddings_weighted(image_embeddings, text_embeddings, image_weight=0.45, text_weight=0.55):\n",
    "    fused_embeddings = {}\n",
    "    for i, text_emb in enumerate(text_embeddings):\n",
    "        listing_key = f\"listing_{i}\"\n",
    "        image_emb = image_embeddings[listing_key]\n",
    "        image_array = np.array(image_emb)\n",
    "        text_array = np.array(text_emb)\n",
    "        fused = text_weight*text_array + image_weight*image_array\n",
    "        fused_embeddings[listing_key] = fused.tolist()\n",
    "        \n",
    "    return fused_embeddings"
   ]
  },
  {
   "cell_type": "markdown",
   "id": "9b400626",
   "metadata": {
    "id": "9b400626"
   },
   "source": [
    "## Writing Listings to Database <a id='CHROMA-DB'></a>"
   ]
  },
  {
   "cell_type": "code",
   "execution_count": 15,
   "id": "1a706854",
   "metadata": {
    "executionInfo": {
     "elapsed": 46,
     "status": "ok",
     "timestamp": 1749157044659,
     "user": {
      "displayName": "prabuddh rai",
      "userId": "13318045156076495622"
     },
     "user_tz": 300
    },
    "id": "1a706854"
   },
   "outputs": [],
   "source": [
    "def write_to_chromadb(listings, text_embeddings, image_embeddings, fused_embeddings, persist_directory=\"./chroma_db\", collection_name=\"real_estate\"):\n",
    "    if os.path.exists(persist_directory):\n",
    "        shutil.rmtree(persist_directory)\n",
    "\n",
    "    os.makedirs(persist_directory, exist_ok=True)\n",
    "    client = chromadb.PersistentClient(persist_directory)\n",
    "    collection = client.create_collection(name=collection_name)\n",
    "\n",
    "    # Prepare metadata for each listing\n",
    "    ids = []\n",
    "    metadatas = []\n",
    "    fused_embeddings_list = []\n",
    "\n",
    "    for i, text_emb in enumerate(text_embeddings):\n",
    "        listing_key = f\"listing_{i}\"\n",
    "        image_emb = image_embeddings[listing_key]\n",
    "        fused_emb = fused_embeddings[listing_key]\n",
    "            \n",
    "        ids.append(listing_key)\n",
    "        # Serialize the list into JSON so metadata value is a str\n",
    "        image_embed_json = json.dumps(image_emb)\n",
    "        metadatas.append({\n",
    "            \"listing_id\": listing_key,\n",
    "            \"image_embedding_json\": image_embed_json\n",
    "        })\n",
    "        fused_embeddings_list.append(fused_emb)\n",
    "\n",
    "    # Add listings and embeddings to the database\n",
    "    collection.add(\n",
    "        documents=listings,\n",
    "        embeddings=fused_embeddings_list,\n",
    "        metadatas=metadatas,\n",
    "        ids=ids,\n",
    "    )\n",
    "    return collection"
   ]
  },
  {
   "cell_type": "markdown",
   "id": "2f22bd6d",
   "metadata": {
    "id": "2f22bd6d"
   },
   "source": [
    "## Getting Buyer Profile <a id='PROFILE'></a>"
   ]
  },
  {
   "cell_type": "code",
   "execution_count": 22,
   "id": "edfe9dd0",
   "metadata": {
    "executionInfo": {
     "elapsed": 41,
     "status": "ok",
     "timestamp": 1749156870368,
     "user": {
      "displayName": "prabuddh rai",
      "userId": "13318045156076495622"
     },
     "user_tz": 300
    },
    "id": "edfe9dd0"
   },
   "outputs": [],
   "source": [
    "def get_buyer_profile():\n",
    "    buyer_questions = [\n",
    "        \"How big do you want your house to be?\",\n",
    "        \"What are 3 most important things for you in choosing this property?\",\n",
    "        \"Which amenities would you like?\",\n",
    "        \"Which transportation options are important to you?\",\n",
    "        \"How urban do you want your neighborhood to be?\",\n",
    "    ]\n",
    "    answers = [input(q + \" \") for q in buyer_questions]\n",
    "    return \" \".join(answers)"
   ]
  },
  {
   "cell_type": "markdown",
   "id": "813c0b67",
   "metadata": {
    "id": "813c0b67"
   },
   "source": [
    "## Generate Personalized Listings <a id='P-LISTINGS'></a>"
   ]
  },
  {
   "cell_type": "code",
   "execution_count": 56,
   "id": "75d3a4f4",
   "metadata": {
    "id": "75d3a4f4"
   },
   "outputs": [],
   "source": [
    "def personalize_listings(llm, db, buyer_profile, k=3):\n",
    "    buyer_embeddings = generate_text_embeddings(buyer_profile, Qwen2_processor, Qwen2_model)\n",
    "    results = db.query(query_embeddings=buyer_embeddings[0],n_results=k)\n",
    "    personalized = {}\n",
    "\n",
    "    for idx, res in zip(results['ids'][0], results['documents'][0]):\n",
    "        prompt = f\"\"\" \n",
    "You are a helpful real estate assistant.\n",
    "\n",
    "Buyer's Preferences:\n",
    "{buyer_profile}\n",
    "\n",
    "Original Listing:\n",
    "{res}\n",
    "\n",
    "Please rewrite the original description and neighborhood description to subtly emphasize aspects aligned with the buyer's preferences, without changing facts.\n",
    "\"\"\"\n",
    "        personalized[idx] = llm.invoke(prompt).content.strip()\n",
    "\n",
    "    return personalized"
   ]
  },
  {
   "cell_type": "markdown",
   "id": "5449e053",
   "metadata": {},
   "source": [
    "## Saving Personalized Listings <a id='SP-LISTINGS'></a>"
   ]
  },
  {
   "cell_type": "code",
   "execution_count": 64,
   "id": "df8c2a6a",
   "metadata": {},
   "outputs": [],
   "source": [
    "def save_personalized_listings(personalized, output_file='personalized_listings.json'):\n",
    "    \"\"\"\n",
    "    Save the personalized listings to a JSON file.\n",
    "\n",
    "    Args:\n",
    "        personalized (dict): The dictionary with personalized listings.\n",
    "        output_file (str): File path to save the output.\n",
    "    \"\"\"\n",
    "    with open(output_file, \"w\") as f:\n",
    "        json.dump(personalized, f)"
   ]
  },
  {
   "cell_type": "markdown",
   "id": "5e1878ac",
   "metadata": {
    "id": "5e1878ac"
   },
   "source": [
    "## Execution Blocks <a id='BLOCKS'></a>\n",
    "### Blocks that only need to run once and then results can be saved and used later "
   ]
  },
  {
   "cell_type": "code",
   "execution_count": 13,
   "id": "2079c100",
   "metadata": {},
   "outputs": [
    {
     "name": "stdout",
     "output_type": "stream",
     "text": [
      "🔧 Step 1: Generating real estate listings using the language model...\n",
      "💾 Step 2: Saved listings to a JSON file...\n"
     ]
    }
   ],
   "source": [
    "print(\"🔧 Step 1: Generating real estate listings using the language model...\")\n",
    "listings = generate_listings(llm, prompt_template)\n",
    "\n",
    "print(\"💾 Step 2: Saved listings to a JSON file...\")\n",
    "listings = save_listings_to_json(listings)"
   ]
  },
  {
   "cell_type": "code",
   "execution_count": 10,
   "id": "a6c28465",
   "metadata": {},
   "outputs": [
    {
     "name": "stdout",
     "output_type": "stream",
     "text": [
      "🖼️ Step 3: Generating image prompts...\n"
     ]
    }
   ],
   "source": [
    "print(\"🖼️ Step 3: Generating image prompts...\")\n",
    "prompts = generate_prompts(listings)"
   ]
  },
  {
   "cell_type": "code",
   "execution_count": 16,
   "id": "8bb127ea",
   "metadata": {},
   "outputs": [
    {
     "name": "stderr",
     "output_type": "stream",
     "text": [
      "The following part of your input was truncated because CLIP can only handle sequences up to 77 tokens: [\"cozy living room, updated kitchen with granite countertops and stainless steel appliances, and a bright dining area overlooking the backyard. the master bedroom offers a private retreat with a walk - in closet and en - suite bathroom. the backyard is perfect for entertaining with a patio, lush lawn, and mature trees for added privacy.. set in a picturesque neighborhood known for oakwood estates is a family - friendly neighborhood known for its peaceful atmosphere and close - knit community. residents enjoy easy access to nearby parks, schools, and shopping centers. the neighborhood is conveniently located near major highways, making it a great choice for commuters. don 't miss out on the opportunity to make this lovely home yours in oakwood estates.. clear blue skies, natural lighting, professional real estate photography.\"]\n"
     ]
    },
    {
     "name": "stdout",
     "output_type": "stream",
     "text": [
      "🧩 Step 4: Generating images using Stable Diffusion pipeline...\n"
     ]
    },
    {
     "data": {
      "application/vnd.jupyter.widget-view+json": {
       "model_id": "ef96d0a3ca6a44dba3a813e38f8303fb",
       "version_major": 2,
       "version_minor": 0
      },
      "text/plain": [
       "  0%|          | 0/50 [00:00<?, ?it/s]"
      ]
     },
     "metadata": {},
     "output_type": "display_data"
    },
    {
     "name": "stderr",
     "output_type": "stream",
     "text": [
      "The following part of your input was truncated because CLIP can only handle sequences up to 77 tokens: [\"with stainless steel appliances, and a separate dining area perfect for entertaining guests. the master bedroom features an ensuite bathroom with a luxurious soaking tub, perfect for unwinding after a long day. step outside to the beautifully landscaped backyard with a patio area, ideal for enjoying the california sunshine. with hardwood floors throughout, ample storage space, and a 2 - car garage, this home is perfect for comfortable and convenient living.. set in a picturesque neighborhood known for westwood hills is known for its tree - lined streets, family - friendly atmosphere, and proximity to top - rated schools. residents enjoy easy access to hiking trails, parks, and shopping centers, making it a sought - after location for families and professionals alike. with a short drive to downtown and close proximity to major freeways, this neighborhood offers the perfect balance of tranquility and convenience. don 't miss out on the opportunity to make this lovely home your own in the highly desirable westwood hills neighborhood.. clear blue skies, natural lighting, professional real estate photography.\"]\n"
     ]
    },
    {
     "data": {
      "application/vnd.jupyter.widget-view+json": {
       "model_id": "fd16cb25ba204e0ca7bbc9bd118cb811",
       "version_major": 2,
       "version_minor": 0
      },
      "text/plain": [
       "  0%|          | 0/50 [00:00<?, ?it/s]"
      ]
     },
     "metadata": {},
     "output_type": "display_data"
    },
    {
     "name": "stderr",
     "output_type": "stream",
     "text": [
      "The following part of your input was truncated because CLIP can only handle sequences up to 77 tokens: ['steel appliances, and a dining area perfect for entertaining. the master bedroom boasts an en - suite bathroom and ample closet space. the backyard is a private oasis with a patio and lush landscaping, ideal for enjoying the outdoors. with hardwood floors throughout and plenty of natural light, this home is move - in ready.. set in a picturesque neighborhood known for forest hills is known for its tree - lined streets, family - friendly atmosphere, and proximity to parks and recreational activities. residents enjoy easy access to hiking trails, shopping centers, and top - rated schools. the neighborhood also features a vibrant dining scene with trendy restaurants and cafes. with its convenient location and welcoming community, forest hills is a sought - after place to call home.. clear blue skies, natural lighting, professional real estate photography.']\n"
     ]
    },
    {
     "data": {
      "application/vnd.jupyter.widget-view+json": {
       "model_id": "a65bfadcc78345baac951439782fc4d1",
       "version_major": 2,
       "version_minor": 0
      },
      "text/plain": [
       "  0%|          | 0/50 [00:00<?, ?it/s]"
      ]
     },
     "metadata": {},
     "output_type": "display_data"
    },
    {
     "name": "stderr",
     "output_type": "stream",
     "text": [
      "The following part of your input was truncated because CLIP can only handle sequences up to 77 tokens: ['- line appliances, and a spacious living area with a cozy fireplace. the master suite boasts a spa - like bathroom and a private balcony overlooking the hollywood sign. the outdoor space is perfect for entertaining with a large deck, infinity pool, and built - in barbecue area.. set in a picturesque neighborhood known for hollywood hills is known for its exclusive homes, celebrity residents, and iconic views of the city. this property is just minutes away from the trendy shops and restaurants of sunset boulevard and the excitement of hollywood. residents can enjoy hiking in nearby runyon canyon or taking a short drive to the beaches of santa monica. with its prime location and luxurious amenities, this home offers the ultimate hollywood lifestyle.. clear blue skies, natural lighting, professional real estate photography.']\n"
     ]
    },
    {
     "data": {
      "application/vnd.jupyter.widget-view+json": {
       "model_id": "54bae1254ca84192888733a407fda667",
       "version_major": 2,
       "version_minor": 0
      },
      "text/plain": [
       "  0%|          | 0/50 [00:00<?, ?it/s]"
      ]
     },
     "metadata": {},
     "output_type": "display_data"
    },
    {
     "name": "stderr",
     "output_type": "stream",
     "text": [
      "The following part of your input was truncated because CLIP can only handle sequences up to 77 tokens: [\"and a dining area perfect for entertaining guests. upstairs, you 'll find three well - appointed bedrooms with ample closet space and two full bathrooms. the lower level offers a cozy family room and a laundry room. the private backyard is a serene oasis, ideal for relaxing or hosting summer bbqs.. set in a picturesque neighborhood known for park slope is known for its tree - lined streets, trendy boutiques, and top - rated restaurants. prospect park is just a short walk away, offering plenty of outdoor recreational activities. the neighborhood also boasts excellent schools, convenient access to public transportation, and a vibrant community atmosphere. don 't miss this opportunity to own a piece of brooklyn's most coveted neighborhood.. clear blue skies, natural lighting, professional real estate photography.\"]\n"
     ]
    },
    {
     "data": {
      "application/vnd.jupyter.widget-view+json": {
       "model_id": "9fbce5977b474fc2a638f10af0c30d69",
       "version_major": 2,
       "version_minor": 0
      },
      "text/plain": [
       "  0%|          | 0/50 [00:00<?, ?it/s]"
      ]
     },
     "metadata": {},
     "output_type": "display_data"
    },
    {
     "name": "stderr",
     "output_type": "stream",
     "text": [
      "The following part of your input was truncated because CLIP can only handle sequences up to 77 tokens: ['that fill the space with natural light. the updated kitchen boasts stainless steel appliances, granite countertops, and a breakfast bar. the master suite includes a private balcony overlooking the beautifully landscaped backyard, perfect for enjoying morning coffee or evening sunsets. additional features include hardwood floors throughout, a formal dining room, and a detached garage.. set in a picturesque neighborhood known for pacific heights is known for its upscale and elegant feel, with tree - lined streets, stunning views of the san francisco bay, and proximity to top - rated schools. residents enjoy easy access to boutique shops, upscale restaurants, and iconic landmarks like the presidio and golden gate park. with its combination of luxury homes and vibrant community, pacific heights offers a truly unmatched living experience in san francisco.. clear blue skies, natural lighting, professional real estate photography.']\n"
     ]
    },
    {
     "data": {
      "application/vnd.jupyter.widget-view+json": {
       "model_id": "892d0e6d861e4eb8828aa24047c444c9",
       "version_major": 2,
       "version_minor": 0
      },
      "text/plain": [
       "  0%|          | 0/50 [00:00<?, ?it/s]"
      ]
     },
     "metadata": {},
     "output_type": "display_data"
    },
    {
     "name": "stderr",
     "output_type": "stream",
     "text": [
      "The following part of your input was truncated because CLIP can only handle sequences up to 77 tokens: ['stainless steel appliances, and a spacious living room with a cozy fireplace. the master suite boasts a luxurious en - suite bathroom with a soaking tub and a walk - in closet. step outside to the private backyard oasis complete with a deck, perfect for entertaining guests or enjoying a quiet evening under the stars.. set in a picturesque neighborhood known for west hollywood is known for its vibrant nightlife, trendy shops, and delicious restaurants. this home is conveniently located near sunset strip, melrose avenue, and santa monica boulevard, offering a variety of entertainment options and dining experiences. enjoy easy access to parks, fitness studios, and grocery stores, making it a desirable location for those seeking a lively and dynamic lifestyle.. clear blue skies, natural lighting, professional real estate photography.']\n"
     ]
    },
    {
     "data": {
      "application/vnd.jupyter.widget-view+json": {
       "model_id": "498a939df8754ea1a930aab5598a8554",
       "version_major": 2,
       "version_minor": 0
      },
      "text/plain": [
       "  0%|          | 0/50 [00:00<?, ?it/s]"
      ]
     },
     "metadata": {},
     "output_type": "display_data"
    },
    {
     "name": "stderr",
     "output_type": "stream",
     "text": [
      "The following part of your input was truncated because CLIP can only handle sequences up to 77 tokens: ['tops and stainless steel appliances, and a master suite with a walk - in closet and ensuite bathroom. the backyard is perfect for entertaining with a covered patio and lush greenery. with fresh paint and new flooring throughout, this home is move - in ready and waiting for its new owners to make it their own.. set in a picturesque neighborhood known for willow creek is a family - friendly neighborhood with tree - lined streets and well - maintained homes. the community offers a park with playgrounds and walking trails, perfect for outdoor activities. nearby amenities include shopping centers, restaurants, and top - rated schools, making it an ideal place to call home for families and professionals alike. with easy access to major highways, commuting to downtown and other parts of the city is a breeze.. clear blue skies, natural lighting, professional real estate photography.']\n"
     ]
    },
    {
     "data": {
      "application/vnd.jupyter.widget-view+json": {
       "model_id": "5e5698e6115f47d4a8f6c32e7c59c575",
       "version_major": 2,
       "version_minor": 0
      },
      "text/plain": [
       "  0%|          | 0/50 [00:00<?, ?it/s]"
      ]
     },
     "metadata": {},
     "output_type": "display_data"
    },
    {
     "name": "stderr",
     "output_type": "stream",
     "text": [
      "The following part of your input was truncated because CLIP can only handle sequences up to 77 tokens: ['large windows that flood the space with natural light. the gourmet kitchen is equipped with stainless steel appliances, quartz countertops, and a spacious island. the master bedroom boasts a walk - in closet and a luxurious en - suite bathroom with a soaking tub and separate shower. the backyard oasis includes a deck, perfect for outdoor dining, and a lush lawn, ideal for relaxing or entertaining.. set in a picturesque neighborhood known for larchmont village is a highly sought - after neighborhood known for its tree - lined streets, historic homes, and vibrant community. residents enjoy strolling to the nearby shops, cafes, and restaurants on larchmont boulevard. this prime location also offers easy access to hancock park, hollywood, and downtown la, making it a convenient and desirable place to call home.. clear blue skies, natural lighting, professional real estate photography.']\n"
     ]
    },
    {
     "data": {
      "application/vnd.jupyter.widget-view+json": {
       "model_id": "d04db0ed4afb453da6ae9f90d206d672",
       "version_major": 2,
       "version_minor": 0
      },
      "text/plain": [
       "  0%|          | 0/50 [00:00<?, ?it/s]"
      ]
     },
     "metadata": {},
     "output_type": "display_data"
    },
    {
     "name": "stderr",
     "output_type": "stream",
     "text": [
      "The following part of your input was truncated because CLIP can only handle sequences up to 77 tokens: [\"stainless steel appliances, and a large backyard perfect for entertaining. the master bedroom boasts an en - suite bathroom and walk - in closet, while the other bedrooms offer ample space and natural light. with hardwood floors throughout, a two - car garage, and a convenient location near shops and restaurants, this house is a perfect place to call home.. set in a picturesque neighborhood known for sunset heights is a vibrant and family - friendly neighborhood known for its tree - lined streets and close - knit community. residents enjoy easy access to parks, schools, and public transportation, making it a convenient location for families and commuters alike. with trendy cafes, boutiques, and local markets just a short walk away, sunset heights offers the perfect blend of urban convenience and suburban charm. don 't miss out on this opportunity to live in one of the most sought - after neighborhoods in the area!. clear blue skies, natural lighting, professional real estate photography.\"]\n"
     ]
    },
    {
     "data": {
      "application/vnd.jupyter.widget-view+json": {
       "model_id": "d2fa2e16f5e7418b9461d174c9e099f3",
       "version_major": 2,
       "version_minor": 0
      },
      "text/plain": [
       "  0%|          | 0/50 [00:00<?, ?it/s]"
      ]
     },
     "metadata": {},
     "output_type": "display_data"
    },
    {
     "name": "stdout",
     "output_type": "stream",
     "text": [
      "🧩 Step 4 Complete: Images have been saved!\n"
     ]
    }
   ],
   "source": [
    "print(\"🧩 Step 4: Generating images using Stable Diffusion pipeline...\")\n",
    "generate_images(sd_pipe, prompts)\n",
    "print(\"🧩 Step 4 Complete: Images have been saved!\")"
   ]
  },
  {
   "cell_type": "code",
   "execution_count": 17,
   "id": "e82083c6",
   "metadata": {},
   "outputs": [
    {
     "name": "stdout",
     "output_type": "stream",
     "text": [
      "🧠 Step 5: Generating image embeddings using Qwen2 model...\n",
      "📝 Step 6: Generating text embeddings for listings...\n"
     ]
    }
   ],
   "source": [
    "print(\"🧠 Step 5: Generating image embeddings using Qwen2 model...\")\n",
    "image_embeddings = generate_image_embeddings(Qwen2_processor, Qwen2_model)\n",
    "\n",
    "print(\"📝 Step 6: Generating text embeddings for listings...\")\n",
    "text_embeddings = generate_text_embeddings(listings, Qwen2_processor, Qwen2_model)"
   ]
  },
  {
   "cell_type": "code",
   "execution_count": 18,
   "id": "4c4b88ef",
   "metadata": {},
   "outputs": [
    {
     "name": "stdout",
     "output_type": "stream",
     "text": [
      "📝 Step 7: Generating fused embeddings using text and image embeddings...\n"
     ]
    }
   ],
   "source": [
    "print(\"📝 Step 7: Generating fused embeddings using text and image embeddings...\")\n",
    "fused_embeddings = fused_embeddings_weighted(image_embeddings, text_embeddings, image_weight=0.45, text_weight=0.55)"
   ]
  },
  {
   "cell_type": "code",
   "execution_count": 19,
   "id": "a82f5996",
   "metadata": {},
   "outputs": [
    {
     "name": "stdout",
     "output_type": "stream",
     "text": [
      "💾 Step 8: Saving listings and embeddings to ChromaDB...\n",
      "🎉 Listings successfully saved to ChromaDB.\n"
     ]
    }
   ],
   "source": [
    "print(\"💾 Step 8: Saving listings and embeddings to ChromaDB...\")\n",
    "db = write_to_chromadb(listings, text_embeddings, image_embeddings, fused_embeddings)\n",
    "print(\"🎉 Listings successfully saved to ChromaDB.\")"
   ]
  },
  {
   "cell_type": "markdown",
   "id": "0e914105",
   "metadata": {},
   "source": [
    "## Main Execution Block <a id='MAIN'></a>\n",
    "### Blocks that can be run multiple times"
   ]
  },
  {
   "cell_type": "code",
   "execution_count": 66,
   "id": "c16623aa",
   "metadata": {},
   "outputs": [],
   "source": [
    "def main():\n",
    "    print(\"🔍 Step 9: Retrieving information from ChromaDB...\")\n",
    "    #Only run this when db is already available\n",
    "    #And if you run this, please replace db with collection in the code ahead\n",
    "    #client = chromadb.PersistentClient(path=\"chromadb\")\n",
    "    #collection = client.get_collection(\"real_estate\", embedding_function=None)\n",
    "    \n",
    "    print(\"👤 Step 10: Getting buyer profile input...\")\n",
    "    buyer_profile = get_buyer_profile()\n",
    "    \n",
    "    print(\"✨ Step 11: Personalizing listings based on buyer profile...\")\n",
    "    personalized = personalize_listings(llm, db, buyer_profile)\n",
    "    \n",
    "    print(\"💾 Step 12: Saving personalized listings to output file...\")\n",
    "    save_personalized_listings(personalized)\n",
    "\n",
    "    print(\"🎉 Personalized listings saved successfully.\")"
   ]
  },
  {
   "cell_type": "code",
   "execution_count": 67,
   "id": "c01b2076",
   "metadata": {},
   "outputs": [
    {
     "name": "stdout",
     "output_type": "stream",
     "text": [
      "🔍 Step 9: Retrieving information from ChromaDB...\n",
      "👤 Step 10: Getting buyer profile input...\n",
      "How big do you want your house to be? comfortable three-bedroom house with a spacious kitchen and a cozy living room.\n",
      "What are 3 most important things for you in choosing this property? quiet neighborhood, good local schools, and convenient shopping options.\n",
      "Which amenities would you like? backyard for gardening, a two-car garage, and a modern, energy-efficient heating system.\n",
      "Which transportation options are important to you? Easy access to a reliable bus line, proximity to a major highway, and bike-friendly roads.\n",
      "How urban do you want your neighborhood to be? A balance between suburban tranquility and access to urban amenities like restaurants and theaters.\n",
      "✨ Step 11: Personalizing listings based on buyer profile...\n",
      "💾 Step 12: Saving personalized listings to output file...\n",
      "🎉 Personalized listings saved successfully.\n"
     ]
    }
   ],
   "source": [
    "if __name__ == \"__main__\":\n",
    "    main()"
   ]
  }
 ],
 "metadata": {
  "colab": {
   "provenance": []
  },
  "kernelspec": {
   "display_name": "Python 3 (ipykernel)",
   "language": "python",
   "name": "python3"
  },
  "language_info": {
   "codemirror_mode": {
    "name": "ipython",
    "version": 3
   },
   "file_extension": ".py",
   "mimetype": "text/x-python",
   "name": "python",
   "nbconvert_exporter": "python",
   "pygments_lexer": "ipython3",
   "version": "3.10.11"
  }
 },
 "nbformat": 4,
 "nbformat_minor": 5
}
