{
 "cells": [
  {
   "cell_type": "code",
   "execution_count": null,
   "id": "7a173368",
   "metadata": {},
   "outputs": [],
   "source": [
    "!pip install --upgrade torch torchvision torchaudio --index-url https://download.pytorch.org/whl/cu121\n",
    "!pip install --upgrade transformers\n",
    "!pip install diffusers"
   ]
  },
  {
   "cell_type": "code",
   "execution_count": 1,
   "id": "6554fd4c",
   "metadata": {},
   "outputs": [],
   "source": [
    "import os\n",
    "import json\n",
    "from langchain.llms import OpenAI\n",
    "from langchain.embeddings import OpenAIEmbeddings\n",
    "from langchain.vectorstores import Chroma\n",
    "from transformers import CLIPProcessor, CLIPModel\n",
    "from PIL import Image\n",
    "import torch"
   ]
  },
  {
   "cell_type": "code",
   "execution_count": 2,
   "id": "79768e10",
   "metadata": {},
   "outputs": [],
   "source": [
    "os.environ[\"OPENAI_API_KEY\"] = \"voc-1599600020126677378679667940bb7120f80.30121104\"\n",
    "os.environ[\"OPENAI_API_BASE\"] = \"https://openai.vocareum.com/v1\""
   ]
  },
  {
   "cell_type": "code",
   "execution_count": 3,
   "id": "28acb1a1",
   "metadata": {},
   "outputs": [
    {
     "name": "stderr",
     "output_type": "stream",
     "text": [
      "/opt/conda/lib/python3.10/site-packages/langchain/llms/openai.py:202: UserWarning: You are trying to use a chat model. This way of initializing it is no longer supported. Instead, please use: `from langchain.chat_models import ChatOpenAI`\n",
      "  warnings.warn(\n",
      "/opt/conda/lib/python3.10/site-packages/langchain/llms/openai.py:790: UserWarning: You are trying to use a chat model. This way of initializing it is no longer supported. Instead, please use: `from langchain.chat_models import ChatOpenAI`\n",
      "  warnings.warn(\n",
      "/opt/conda/lib/python3.10/site-packages/huggingface_hub/file_download.py:1132: FutureWarning: `resume_download` is deprecated and will be removed in version 1.0.0. Downloads always resume when possible. If you want to force a new download, use `force_download=True`.\n",
      "  warnings.warn(\n"
     ]
    },
    {
     "data": {
      "application/vnd.jupyter.widget-view+json": {
       "model_id": "236235ca1a58479f886dadb5742bde14",
       "version_major": 2,
       "version_minor": 0
      },
      "text/plain": [
       "config.json:   0%|          | 0.00/4.19k [00:00<?, ?B/s]"
      ]
     },
     "metadata": {},
     "output_type": "display_data"
    },
    {
     "data": {
      "application/vnd.jupyter.widget-view+json": {
       "model_id": "205b155aee2f4893a85e7584c1bef9af",
       "version_major": 2,
       "version_minor": 0
      },
      "text/plain": [
       "pytorch_model.bin:   0%|          | 0.00/605M [00:00<?, ?B/s]"
      ]
     },
     "metadata": {},
     "output_type": "display_data"
    },
    {
     "data": {
      "application/vnd.jupyter.widget-view+json": {
       "model_id": "f108146d138e47cb95ff33c3e3696c50",
       "version_major": 2,
       "version_minor": 0
      },
      "text/plain": [
       "preprocessor_config.json:   0%|          | 0.00/316 [00:00<?, ?B/s]"
      ]
     },
     "metadata": {},
     "output_type": "display_data"
    },
    {
     "data": {
      "application/vnd.jupyter.widget-view+json": {
       "model_id": "639377e1810643a2b0f7bdfe087022f6",
       "version_major": 2,
       "version_minor": 0
      },
      "text/plain": [
       "tokenizer_config.json:   0%|          | 0.00/592 [00:00<?, ?B/s]"
      ]
     },
     "metadata": {},
     "output_type": "display_data"
    },
    {
     "data": {
      "application/vnd.jupyter.widget-view+json": {
       "model_id": "ae47c7089e6a4f9085002914b520635e",
       "version_major": 2,
       "version_minor": 0
      },
      "text/plain": [
       "vocab.json:   0%|          | 0.00/862k [00:00<?, ?B/s]"
      ]
     },
     "metadata": {},
     "output_type": "display_data"
    },
    {
     "data": {
      "application/vnd.jupyter.widget-view+json": {
       "model_id": "7cfc8ad7357b42799feca43e957bd83c",
       "version_major": 2,
       "version_minor": 0
      },
      "text/plain": [
       "merges.txt:   0%|          | 0.00/525k [00:00<?, ?B/s]"
      ]
     },
     "metadata": {},
     "output_type": "display_data"
    },
    {
     "data": {
      "application/vnd.jupyter.widget-view+json": {
       "model_id": "ea70ba10c0104e37ad2f83a09a683cc8",
       "version_major": 2,
       "version_minor": 0
      },
      "text/plain": [
       "tokenizer.json:   0%|          | 0.00/2.22M [00:00<?, ?B/s]"
      ]
     },
     "metadata": {},
     "output_type": "display_data"
    },
    {
     "data": {
      "application/vnd.jupyter.widget-view+json": {
       "model_id": "d321b1507de7461a86c5ace89f839e9e",
       "version_major": 2,
       "version_minor": 0
      },
      "text/plain": [
       "special_tokens_map.json:   0%|          | 0.00/389 [00:00<?, ?B/s]"
      ]
     },
     "metadata": {},
     "output_type": "display_data"
    }
   ],
   "source": [
    "llm = OpenAI(model_name=\"gpt-3.5-turbo\", temperature=0.8)\n",
    "embedding_model = OpenAIEmbeddings()\n",
    "clip_model = CLIPModel.from_pretrained(\"openai/clip-vit-base-patch32\")\n",
    "clip_processor = CLIPProcessor.from_pretrained(\"openai/clip-vit-base-patch32\")\n",
    "##sd_pipe = StableDiffusionPipeline.from_pretrained(\"runwayml/stable-diffusion-v1-5\").to(\"cuda\")"
   ]
  },
  {
   "cell_type": "code",
   "execution_count": 4,
   "id": "16d44dc8",
   "metadata": {},
   "outputs": [],
   "source": [
    "prompt_template = \"\"\"\n",
    "Generate a realistic real estate listing in the following format:\n",
    "Neighborhood: <neighborhood name>\n",
    "Price: <$xxx,xxx>\n",
    "Bedrooms: <int>\n",
    "Bathrooms: <int>\n",
    "House Size: <sqft>\n",
    "\n",
    "Description: <A paragraph with vivid and enticing details about the house>\n",
    "\n",
    "Neighborhood Description: <A paragraph that describes the neighborhood and nearby amenities>\n",
    "\"\"\""
   ]
  },
  {
   "cell_type": "code",
   "execution_count": 8,
   "id": "b19653ee",
   "metadata": {},
   "outputs": [],
   "source": [
    "listings = [llm(prompt_template).strip() for _ in range(10)]"
   ]
  },
  {
   "cell_type": "code",
   "execution_count": 9,
   "id": "5d23ecce",
   "metadata": {},
   "outputs": [
    {
     "data": {
      "text/plain": [
       "'Neighborhood: Park Slope, Brooklyn\\nPrice: $1,200,000\\nBedrooms: 3\\nBathrooms: 2\\nHouse Size: 1,800 sqft\\n\\nDescription: Welcome to this charming brownstone in the heart of Park Slope. This beautifully renovated home features a spacious living room with original hardwood floors, a cozy fireplace, and large windows that flood the space with natural light. The updated kitchen boasts stainless steel appliances, granite countertops, and a breakfast bar. The master bedroom offers a peaceful retreat with a walk-in closet and en-suite bathroom. Enjoy the convenience of a private backyard oasis perfect for entertaining or relaxing after a long day.\\n\\nNeighborhood Description: Park Slope is a vibrant neighborhood known for its tree-lined streets, historic brownstones, and abundance of trendy cafes, restaurants, and boutiques. Prospect Park is just a short walk away, offering a picturesque escape from city life with playgrounds, walking paths, and the Prospect Park Zoo. With excellent public transportation options and top-rated schools nearby, Park Slope is the perfect place to call home for families and young professionals alike.'"
      ]
     },
     "execution_count": 9,
     "metadata": {},
     "output_type": "execute_result"
    }
   ],
   "source": [
    "listings[0]"
   ]
  },
  {
   "cell_type": "code",
   "execution_count": 7,
   "id": "07a068e0",
   "metadata": {},
   "outputs": [],
   "source": [
    "#For writing from list to .json\n",
    "with open(\"listings.json\", \"w\") as f:\n",
    "    json.dump(listings, f, indent=2)"
   ]
  },
  {
   "cell_type": "code",
   "execution_count": 11,
   "id": "931b3146",
   "metadata": {},
   "outputs": [],
   "source": [
    "# Load the JSON file\n",
    "with open(\"listings.json\", \"r\") as f:\n",
    "    listings = json.load(f)"
   ]
  },
  {
   "cell_type": "code",
   "execution_count": 12,
   "id": "a177bc82",
   "metadata": {},
   "outputs": [],
   "source": [
    "os.makedirs(\"chromadb\", exist_ok=True)\n",
    "db = Chroma(\n",
    "    persist_directory=\"chromadb\",\n",
    "    collection_name=\"real_estate\",\n",
    "    embedding_function=embedding_model\n",
    ")\n",
    "texts = listings\n",
    "metadatas = [{\"id\": i} for i in range(len(listings))]\n",
    "db.add_texts(texts, metadatas=metadatas)\n",
    "db.persist()"
   ]
  },
  {
   "cell_type": "code",
   "execution_count": 5,
   "id": "c096df48",
   "metadata": {},
   "outputs": [
    {
     "name": "stdout",
     "output_type": "stream",
     "text": [
      "How big do you want your house to be?What are 3 most important things for you in choosing this property? A comfortable three-bedroom house with a spacious kitchen and a cozy living room. A quiet neighborhood, good local schools, and convenient shopping options. \n",
      "Which amenities would you like? A backyard for gardening, a two-car garage, and a modern, energy-efficient heating system.\n",
      "Which transportation options are important to you? Easy access to a reliable bus line, proximity to a major highway, and bike-friendly roads.\n",
      "How urban do you want your neighborhood to be? A balance between suburban tranquility and access to urban amenities like restaurants and theaters.\n"
     ]
    }
   ],
   "source": [
    "buyer_questions = [\n",
    "    \"How big do you want your house to be?\" \n",
    "    \"What are 3 most important things for you in choosing this property?\", \n",
    "    \"Which amenities would you like?\", \n",
    "    \"Which transportation options are important to you?\",\n",
    "    \"How urban do you want your neighborhood to be?\",  \n",
    "]\n",
    "answers = [input(q + \" \") for q in buyer_questions]\n",
    "buyer_profile = \" \".join(answers)"
   ]
  },
  {
   "cell_type": "code",
   "execution_count": 13,
   "id": "1ec2167d",
   "metadata": {},
   "outputs": [],
   "source": [
    "results = db.similarity_search(buyer_profile, k=3)"
   ]
  },
  {
   "cell_type": "code",
   "execution_count": 14,
   "id": "1cf5ba84",
   "metadata": {},
   "outputs": [],
   "source": [
    "personalized = []\n",
    "for res in results:\n",
    "    prompt = f\"\"\"\n",
    "You are a helpful real estate assistant.\n",
    "\n",
    "Buyer's Preferences:\n",
    "{buyer_profile}\n",
    "\n",
    "Original Listing:\n",
    "{res.page_content}\n",
    "\n",
    "Rewrite the listing description and neighborhood description to subtly emphasize aspects aligned with the buyer's preferences, without changing facts.\n",
    "\"\"\"\n",
    "    personalized.append(llm(prompt).strip())"
   ]
  },
  {
   "cell_type": "code",
   "execution_count": 15,
   "id": "6e8cc36b",
   "metadata": {},
   "outputs": [
    {
     "data": {
      "text/plain": [
       "[\"Updated Listing:\\nNeighborhood: Sunset Park\\nPrice: $800,000\\nBedrooms: 3\\nBathrooms: 2\\nHouse Size: 1,500 sqft\\n\\nDescription: Step into this inviting 3-bedroom, 2-bathroom home nestled in the sought-after Sunset Park neighborhood. The spacious open concept living area is perfect for gathering with loved ones, featuring a cozy fireplace and plenty of natural light. The modern kitchen boasts stainless steel appliances, granite countertops, and ample space for culinary creations. The master suite offers a walk-in closet for added convenience. Outside, the backyard oasis includes a deck and lush garden, ideal for relaxation and entertaining. With hardwood floors and a two-car garage, this home is move-in ready for those seeking comfort and style.\\n\\nNeighborhood Description: Sunset Park embodies the perfect blend of tranquility and convenience, with tree-lined streets and vibrant community vibes. Enjoy easy access to local schools, nearby shopping options, and a variety of dining experiences. The neighborhood's proximity to public transportation and major highways provides seamless connectivity, while the bike-friendly roads offer an active lifestyle. Embrace the suburban charm while also having access to urban amenities like theaters and restaurants, making Sunset Park a coveted location for families and professionals alike.\",\n",
       " \"Updated Listing:\\n\\nNeighborhood: Sunset Park\\nPrice: $800,000\\nBedrooms: 3\\nBathrooms: 2\\nHouse Size: 1,500 sqft\\n\\nDescription: Step into this inviting 3-bedroom, 2-bathroom home nestled in the desirable neighborhood of Sunset Park. Recently updated, this house offers a spacious open concept living area perfect for cozy gatherings, a modern kitchen with stainless steel appliances and granite countertops, and a master suite with a walk-in closet. The backyard oasis features a deck and lush garden, ideal for those with a green thumb. With hardwood floors, ample natural light, and a two-car garage, this home is ready for its new owners to move right in and make it their own.\\n\\nNeighborhood Description: Sunset Park exudes a peaceful ambiance with its tree-lined streets and inviting parks, creating a serene escape from the hustle and bustle. Enjoy the convenience of nearby shopping options and top-notch schools, making it an ideal location for families. With easy access to a reliable bus line and proximity to a major highway, commuting is a breeze. Indulge in the balance of suburban tranquility and urban amenities, with trendy shops, restaurants, and cafes just a stone's throw away. This neighborhood truly offers the best of both worlds for those seeking a harmonious lifestyle.\",\n",
       " \"Updated Listing:\\nNeighborhood: Upper East Side\\nPrice: $1,200,000\\nBedrooms: 3\\nBathrooms: 2\\nHouse Size: 2,000 sqft\\n\\nDescription: Situated in the prestigious Upper East Side, this charming brownstone townhouse offers a perfect blend of comfort and style. The spacious living room with a cozy fireplace is perfect for relaxing with family and friends, while the gourmet kitchen with stainless steel appliances and granite countertops is ideal for culinary enthusiasts. The master bedroom features a luxurious en-suite bathroom with a soaking tub, perfect for unwinding after a busy day. Step outside to the peaceful backyard oasis, ideal for gardening or enjoying a morning cup of coffee.\\n\\nNeighborhood Description: The Upper East Side exudes tranquility and sophistication, with quiet tree-lined streets and top-notch schools nearby. Enjoy convenient shopping options and easy access to public transportation, making it a breeze to explore the city. Take advantage of the neighborhood's bike-friendly roads and proximity to major highways for effortless commuting. Indulge in the upscale dining and cultural experiences offered in the area, while still being just a stone's throw away from the bustling city life. Experience the best of both worlds in Manhattan's most sought-after neighborhood.\"]"
      ]
     },
     "execution_count": 15,
     "metadata": {},
     "output_type": "execute_result"
    }
   ],
   "source": [
    "personalized"
   ]
  },
  {
   "cell_type": "code",
   "execution_count": null,
   "id": "6858b0fa",
   "metadata": {},
   "outputs": [],
   "source": []
  }
 ],
 "metadata": {
  "kernelspec": {
   "display_name": "Python 3 (ipykernel)",
   "language": "python",
   "name": "python3"
  },
  "language_info": {
   "codemirror_mode": {
    "name": "ipython",
    "version": 3
   },
   "file_extension": ".py",
   "mimetype": "text/x-python",
   "name": "python",
   "nbconvert_exporter": "python",
   "pygments_lexer": "ipython3",
   "version": "3.10.11"
  }
 },
 "nbformat": 4,
 "nbformat_minor": 5
}
