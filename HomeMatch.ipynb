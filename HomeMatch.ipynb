{
 "cells": [
  {
   "cell_type": "code",
   "execution_count": null,
   "id": "08920e96",
   "metadata": {
    "id": "08920e96"
   },
   "outputs": [],
   "source": [
    "!pip install --upgrade torch torchvision torchaudio --index-url https://download.pytorch.org/whl/cu121\n",
    "!pip install --upgrade transformers\n",
    "!pip install diffusers\n",
    "!pip install open_clip_torch\n",
    "!pip install langchain==0.0.305\n",
    "!pip install -q git+https://github.com/huggingface/transformers.git "
   ]
  },
  {
   "cell_type": "code",
   "execution_count": 2,
   "id": "fb1600ca",
   "metadata": {},
   "outputs": [
    {
     "name": "stdout",
     "output_type": "stream",
     "text": [
      "Defaulting to user installation because normal site-packages is not writeable\n",
      "Requirement already satisfied: torch in /opt/conda/lib/python3.10/site-packages (2.0.1)\n",
      "Collecting torch\n",
      "  Downloading torch-2.7.1-cp310-cp310-manylinux_2_28_x86_64.whl (821.2 MB)\n",
      "\u001b[2K     \u001b[90m━━━━━━━━━━━━━━━━━━━━━━━━━━━━━━━━━━━━━━━\u001b[0m \u001b[32m821.2/821.2 MB\u001b[0m \u001b[31m1.7 MB/s\u001b[0m eta \u001b[36m0:00:00\u001b[0m00:01\u001b[0m00:01\u001b[0m\n",
      "\u001b[?25hRequirement already satisfied: fsspec in /home/student/.local/lib/python3.10/site-packages (from torch) (2024.2.0)\n",
      "Requirement already satisfied: filelock in /home/student/.local/lib/python3.10/site-packages (from torch) (3.13.1)\n",
      "Collecting nvidia-cuda-runtime-cu12==12.6.77\n",
      "  Downloading nvidia_cuda_runtime_cu12-12.6.77-py3-none-manylinux2014_x86_64.manylinux_2_17_x86_64.whl (897 kB)\n",
      "\u001b[2K     \u001b[90m━━━━━━━━━━━━━━━━━━━━━━━━━━━━━━━━━━━━━━\u001b[0m \u001b[32m897.7/897.7 kB\u001b[0m \u001b[31m49.4 MB/s\u001b[0m eta \u001b[36m0:00:00\u001b[0m\n",
      "\u001b[?25hCollecting nvidia-nvtx-cu12==12.6.77\n",
      "  Downloading nvidia_nvtx_cu12-12.6.77-py3-none-manylinux2014_x86_64.manylinux_2_17_x86_64.whl (89 kB)\n",
      "\u001b[2K     \u001b[90m━━━━━━━━━━━━━━━━━━━━━━━━━━━━━━━━━━━━━━━━\u001b[0m \u001b[32m89.3/89.3 kB\u001b[0m \u001b[31m17.6 MB/s\u001b[0m eta \u001b[36m0:00:00\u001b[0m\n",
      "\u001b[?25hCollecting nvidia-nvjitlink-cu12==12.6.85\n",
      "  Downloading nvidia_nvjitlink_cu12-12.6.85-py3-none-manylinux2010_x86_64.manylinux_2_12_x86_64.whl (19.7 MB)\n",
      "\u001b[2K     \u001b[90m━━━━━━━━━━━━━━━━━━━━━━━━━━━━━━━━━━━━━━━━\u001b[0m \u001b[32m19.7/19.7 MB\u001b[0m \u001b[31m66.4 MB/s\u001b[0m eta \u001b[36m0:00:00\u001b[0m00:01\u001b[0m00:01\u001b[0m\n",
      "\u001b[?25hCollecting nvidia-cusolver-cu12==11.7.1.2\n",
      "  Downloading nvidia_cusolver_cu12-11.7.1.2-py3-none-manylinux2014_x86_64.manylinux_2_17_x86_64.whl (158.2 MB)\n",
      "\u001b[2K     \u001b[90m━━━━━━━━━━━━━━━━━━━━━━━━━━━━━━━━━━━━━━━\u001b[0m \u001b[32m158.2/158.2 MB\u001b[0m \u001b[31m8.7 MB/s\u001b[0m eta \u001b[36m0:00:00\u001b[0m00:01\u001b[0m00:01\u001b[0m\n",
      "\u001b[?25hRequirement already satisfied: networkx in /opt/conda/lib/python3.10/site-packages (from torch) (3.1)\n",
      "Collecting sympy>=1.13.3\n",
      "  Downloading sympy-1.14.0-py3-none-any.whl (6.3 MB)\n",
      "\u001b[2K     \u001b[90m━━━━━━━━━━━━━━━━━━━━━━━━━━━━━━━━━━━━━━━━\u001b[0m \u001b[32m6.3/6.3 MB\u001b[0m \u001b[31m91.6 MB/s\u001b[0m eta \u001b[36m0:00:00\u001b[0m:00:01\u001b[0m\n",
      "\u001b[?25hCollecting nvidia-curand-cu12==10.3.7.77\n",
      "  Downloading nvidia_curand_cu12-10.3.7.77-py3-none-manylinux2014_x86_64.manylinux_2_17_x86_64.whl (56.3 MB)\n",
      "\u001b[2K     \u001b[90m━━━━━━━━━━━━━━━━━━━━━━━━━━━━━━━━━━━━━━━━\u001b[0m \u001b[32m56.3/56.3 MB\u001b[0m \u001b[31m25.1 MB/s\u001b[0m eta \u001b[36m0:00:00\u001b[0m00:01\u001b[0m00:01\u001b[0m\n",
      "\u001b[?25hCollecting nvidia-cublas-cu12==12.6.4.1\n",
      "  Downloading nvidia_cublas_cu12-12.6.4.1-py3-none-manylinux2014_x86_64.manylinux_2_17_x86_64.whl (393.1 MB)\n",
      "\u001b[2K     \u001b[90m━━━━━━━━━━━━━━━━━━━━━━━━━━━━━━━━━━━━━━━\u001b[0m \u001b[32m393.1/393.1 MB\u001b[0m \u001b[31m3.5 MB/s\u001b[0m eta \u001b[36m0:00:00\u001b[0m00:01\u001b[0m00:01\u001b[0m\n",
      "\u001b[?25hCollecting nvidia-cusparse-cu12==12.5.4.2\n",
      "  Downloading nvidia_cusparse_cu12-12.5.4.2-py3-none-manylinux2014_x86_64.manylinux_2_17_x86_64.whl (216.6 MB)\n",
      "\u001b[2K     \u001b[90m━━━━━━━━━━━━━━━━━━━━━━━━━━━━━━━━━━━━━━━\u001b[0m \u001b[32m216.6/216.6 MB\u001b[0m \u001b[31m6.4 MB/s\u001b[0m eta \u001b[36m0:00:00\u001b[0m00:01\u001b[0m00:01\u001b[0m\n",
      "\u001b[?25hCollecting nvidia-nccl-cu12==2.26.2\n",
      "  Downloading nvidia_nccl_cu12-2.26.2-py3-none-manylinux2014_x86_64.manylinux_2_17_x86_64.whl (201.3 MB)\n",
      "\u001b[2K     \u001b[90m━━━━━━━━━━━━━━━━━━━━━━━━━━━━━━━━━━━━━━━\u001b[0m \u001b[32m201.3/201.3 MB\u001b[0m \u001b[31m6.8 MB/s\u001b[0m eta \u001b[36m0:00:00\u001b[0m00:01\u001b[0m00:01\u001b[0m\n",
      "\u001b[?25hCollecting nvidia-cudnn-cu12==9.5.1.17\n",
      "  Downloading nvidia_cudnn_cu12-9.5.1.17-py3-none-manylinux_2_28_x86_64.whl (571.0 MB)\n",
      "\u001b[2K     \u001b[90m━━━━━━━━━━━━━━━━━━━━━━━━━━━━━━━━━━━━━━━\u001b[0m \u001b[32m571.0/571.0 MB\u001b[0m \u001b[31m2.4 MB/s\u001b[0m eta \u001b[36m0:00:00\u001b[0m00:01\u001b[0m00:01\u001b[0m\n",
      "\u001b[?25hCollecting nvidia-cusparselt-cu12==0.6.3\n",
      "  Downloading nvidia_cusparselt_cu12-0.6.3-py3-none-manylinux2014_x86_64.whl (156.8 MB)\n",
      "\u001b[2K     \u001b[90m━━━━━━━━━━━━━━━━━━━━━━━━━━━━━━━━━━━━━━━\u001b[0m \u001b[32m156.8/156.8 MB\u001b[0m \u001b[31m8.8 MB/s\u001b[0m eta \u001b[36m0:00:00\u001b[0m00:01\u001b[0m00:01\u001b[0m\n",
      "\u001b[?25hRequirement already satisfied: typing-extensions>=4.10.0 in /home/student/.local/lib/python3.10/site-packages (from torch) (4.14.0)\n",
      "Collecting nvidia-cufile-cu12==1.11.1.6\n",
      "  Downloading nvidia_cufile_cu12-1.11.1.6-py3-none-manylinux2014_x86_64.manylinux_2_17_x86_64.whl (1.1 MB)\n",
      "\u001b[2K     \u001b[90m━━━━━━━━━━━━━━━━━━━━━━━━━━━━━━━━━━━━━━━━\u001b[0m \u001b[32m1.1/1.1 MB\u001b[0m \u001b[31m73.9 MB/s\u001b[0m eta \u001b[36m0:00:00\u001b[0m\n",
      "\u001b[?25hCollecting nvidia-cuda-cupti-cu12==12.6.80\n",
      "  Downloading nvidia_cuda_cupti_cu12-12.6.80-py3-none-manylinux2014_x86_64.manylinux_2_17_x86_64.whl (8.9 MB)\n",
      "\u001b[2K     \u001b[90m━━━━━━━━━━━━━━━━━━━━━━━━━━━━━━━━━━━━━━━━\u001b[0m \u001b[32m8.9/8.9 MB\u001b[0m \u001b[31m75.1 MB/s\u001b[0m eta \u001b[36m0:00:00\u001b[0m:00:01\u001b[0m00:01\u001b[0m\n",
      "\u001b[?25hCollecting nvidia-cuda-nvrtc-cu12==12.6.77\n",
      "  Downloading nvidia_cuda_nvrtc_cu12-12.6.77-py3-none-manylinux2014_x86_64.whl (23.7 MB)\n",
      "\u001b[2K     \u001b[90m━━━━━━━━━━━━━━━━━━━━━━━━━━━━━━━━━━━━━━━━\u001b[0m \u001b[32m23.7/23.7 MB\u001b[0m \u001b[31m58.5 MB/s\u001b[0m eta \u001b[36m0:00:00\u001b[0m00:01\u001b[0m00:01\u001b[0m\n",
      "\u001b[?25hCollecting nvidia-cufft-cu12==11.3.0.4\n",
      "  Downloading nvidia_cufft_cu12-11.3.0.4-py3-none-manylinux2014_x86_64.manylinux_2_17_x86_64.whl (200.2 MB)\n",
      "\u001b[2K     \u001b[90m━━━━━━━━━━━━━━━━━━━━━━━━━━━━━━━━━━━━━━━\u001b[0m \u001b[32m200.2/200.2 MB\u001b[0m \u001b[31m3.7 MB/s\u001b[0m eta \u001b[36m0:00:00\u001b[0m00:01\u001b[0m00:01\u001b[0m\n",
      "\u001b[?25hRequirement already satisfied: jinja2 in /home/student/.local/lib/python3.10/site-packages (from torch) (3.1.3)\n",
      "Collecting triton==3.3.1\n",
      "  Downloading triton-3.3.1-cp310-cp310-manylinux_2_27_x86_64.manylinux_2_28_x86_64.whl (155.6 MB)\n",
      "\u001b[2K     \u001b[90m━━━━━━━━━━━━━━━━━━━━━━━━━━━━━━━━━━━━━━━\u001b[0m \u001b[32m155.6/155.6 MB\u001b[0m \u001b[31m8.3 MB/s\u001b[0m eta \u001b[36m0:00:00\u001b[0m00:01\u001b[0m00:01\u001b[0m\n",
      "\u001b[?25hRequirement already satisfied: setuptools>=40.8.0 in /opt/conda/lib/python3.10/site-packages (from triton==3.3.1->torch) (65.6.3)\n",
      "Requirement already satisfied: mpmath<1.4,>=1.1.0 in /opt/conda/lib/python3.10/site-packages (from sympy>=1.13.3->torch) (1.3.0)\n",
      "Requirement already satisfied: MarkupSafe>=2.0 in /home/student/.local/lib/python3.10/site-packages (from jinja2->torch) (2.1.5)\n",
      "Installing collected packages: nvidia-cusparselt-cu12, triton, sympy, nvidia-nvtx-cu12, nvidia-nvjitlink-cu12, nvidia-nccl-cu12, nvidia-curand-cu12, nvidia-cufile-cu12, nvidia-cuda-runtime-cu12, nvidia-cuda-nvrtc-cu12, nvidia-cuda-cupti-cu12, nvidia-cublas-cu12, nvidia-cusparse-cu12, nvidia-cufft-cu12, nvidia-cudnn-cu12, nvidia-cusolver-cu12, torch\n",
      "\u001b[33m  WARNING: The scripts proton and proton-viewer are installed in '/home/student/.local/bin' which is not on PATH.\n",
      "  Consider adding this directory to PATH or, if you prefer to suppress this warning, use --no-warn-script-location.\u001b[0m\u001b[33m\n",
      "\u001b[0m\u001b[33m  WARNING: The script isympy is installed in '/home/student/.local/bin' which is not on PATH.\n",
      "  Consider adding this directory to PATH or, if you prefer to suppress this warning, use --no-warn-script-location.\u001b[0m\u001b[33m\n",
      "\u001b[0m\u001b[33m  WARNING: The scripts torchfrtrace and torchrun are installed in '/home/student/.local/bin' which is not on PATH.\n",
      "  Consider adding this directory to PATH or, if you prefer to suppress this warning, use --no-warn-script-location.\u001b[0m\u001b[33m\n",
      "\u001b[0mSuccessfully installed nvidia-cublas-cu12-12.6.4.1 nvidia-cuda-cupti-cu12-12.6.80 nvidia-cuda-nvrtc-cu12-12.6.77 nvidia-cuda-runtime-cu12-12.6.77 nvidia-cudnn-cu12-9.5.1.17 nvidia-cufft-cu12-11.3.0.4 nvidia-cufile-cu12-1.11.1.6 nvidia-curand-cu12-10.3.7.77 nvidia-cusolver-cu12-11.7.1.2 nvidia-cusparse-cu12-12.5.4.2 nvidia-cusparselt-cu12-0.6.3 nvidia-nccl-cu12-2.26.2 nvidia-nvjitlink-cu12-12.6.85 nvidia-nvtx-cu12-12.6.77 sympy-1.14.0 torch-2.7.1 triton-3.3.1\n"
     ]
    }
   ],
   "source": [
    "!pip install --upgrade torch"
   ]
  },
  {
   "cell_type": "code",
   "execution_count": null,
   "id": "66019b75",
   "metadata": {},
   "outputs": [],
   "source": [
    "!pip install open_clip_torch"
   ]
  },
  {
   "cell_type": "code",
   "execution_count": 2,
   "id": "843fe3e1",
   "metadata": {},
   "outputs": [
    {
     "name": "stdout",
     "output_type": "stream",
     "text": [
      "Defaulting to user installation because normal site-packages is not writeable\n",
      "Collecting openai\n",
      "  Downloading openai-1.88.0-py3-none-any.whl (734 kB)\n",
      "\u001b[2K     \u001b[90m━━━━━━━━━━━━━━━━━━━━━━━━━━━━━━━━━━━━━━━\u001b[0m \u001b[32m734.3/734.3 kB\u001b[0m \u001b[31m7.6 MB/s\u001b[0m eta \u001b[36m0:00:00\u001b[0m00:01\u001b[0m00:01\u001b[0m\n",
      "\u001b[?25hRequirement already satisfied: httpx<1,>=0.23.0 in /home/student/.local/lib/python3.10/site-packages (from openai) (0.27.0)\n",
      "Requirement already satisfied: tqdm>4 in /home/student/.local/lib/python3.10/site-packages (from openai) (4.66.2)\n",
      "Collecting distro<2,>=1.7.0\n",
      "  Downloading distro-1.9.0-py3-none-any.whl (20 kB)\n",
      "Requirement already satisfied: anyio<5,>=3.5.0 in /home/student/.local/lib/python3.10/site-packages (from openai) (4.3.0)\n",
      "Collecting jiter<1,>=0.4.0\n",
      "  Downloading jiter-0.10.0-cp310-cp310-manylinux_2_17_x86_64.manylinux2014_x86_64.whl (352 kB)\n",
      "\u001b[2K     \u001b[90m━━━━━━━━━━━━━━━━━━━━━━━━━━━━━━━━━━━━━━\u001b[0m \u001b[32m352.5/352.5 kB\u001b[0m \u001b[31m37.4 MB/s\u001b[0m eta \u001b[36m0:00:00\u001b[0m\n",
      "\u001b[?25hRequirement already satisfied: pydantic<3,>=1.9.0 in /home/student/.local/lib/python3.10/site-packages (from openai) (2.6.4)\n",
      "Requirement already satisfied: sniffio in /home/student/.local/lib/python3.10/site-packages (from openai) (1.3.1)\n",
      "Collecting typing-extensions<5,>=4.11\n",
      "  Downloading typing_extensions-4.14.0-py3-none-any.whl (43 kB)\n",
      "\u001b[2K     \u001b[90m━━━━━━━━━━━━━━━━━━━━━━━━━━━━━━━━━━━━━━━━\u001b[0m \u001b[32m43.8/43.8 kB\u001b[0m \u001b[31m8.5 MB/s\u001b[0m eta \u001b[36m0:00:00\u001b[0m\n",
      "\u001b[?25hRequirement already satisfied: idna>=2.8 in /home/student/.local/lib/python3.10/site-packages (from anyio<5,>=3.5.0->openai) (3.6)\n",
      "Requirement already satisfied: exceptiongroup>=1.0.2 in /home/student/.local/lib/python3.10/site-packages (from anyio<5,>=3.5.0->openai) (1.2.0)\n",
      "Requirement already satisfied: httpcore==1.* in /home/student/.local/lib/python3.10/site-packages (from httpx<1,>=0.23.0->openai) (1.0.4)\n",
      "Requirement already satisfied: certifi in /home/student/.local/lib/python3.10/site-packages (from httpx<1,>=0.23.0->openai) (2024.2.2)\n",
      "Requirement already satisfied: h11<0.15,>=0.13 in /home/student/.local/lib/python3.10/site-packages (from httpcore==1.*->httpx<1,>=0.23.0->openai) (0.14.0)\n",
      "Requirement already satisfied: pydantic-core==2.16.3 in /home/student/.local/lib/python3.10/site-packages (from pydantic<3,>=1.9.0->openai) (2.16.3)\n",
      "Requirement already satisfied: annotated-types>=0.4.0 in /home/student/.local/lib/python3.10/site-packages (from pydantic<3,>=1.9.0->openai) (0.6.0)\n",
      "Installing collected packages: typing-extensions, jiter, distro, openai\n",
      "  Attempting uninstall: typing-extensions\n",
      "    Found existing installation: typing_extensions 4.10.0\n",
      "    Uninstalling typing_extensions-4.10.0:\n",
      "      Successfully uninstalled typing_extensions-4.10.0\n",
      "\u001b[33m  WARNING: The script distro is installed in '/home/student/.local/bin' which is not on PATH.\n",
      "  Consider adding this directory to PATH or, if you prefer to suppress this warning, use --no-warn-script-location.\u001b[0m\u001b[33m\n",
      "\u001b[0m\u001b[33m  WARNING: The script openai is installed in '/home/student/.local/bin' which is not on PATH.\n",
      "  Consider adding this directory to PATH or, if you prefer to suppress this warning, use --no-warn-script-location.\u001b[0m\u001b[33m\n",
      "\u001b[0mSuccessfully installed distro-1.9.0 jiter-0.10.0 openai-1.88.0 typing-extensions-4.14.0\n"
     ]
    }
   ],
   "source": [
    "!pip install --upgrade openai"
   ]
  },
  {
   "cell_type": "code",
   "execution_count": null,
   "id": "f3d6291d",
   "metadata": {},
   "outputs": [],
   "source": [
    "!pip install --upgrade accelerate"
   ]
  },
  {
   "cell_type": "code",
   "execution_count": 5,
   "id": "25a8b09d",
   "metadata": {},
   "outputs": [
    {
     "name": "stdout",
     "output_type": "stream",
     "text": [
      "Defaulting to user installation because normal site-packages is not writeable\n",
      "Collecting chromadb\n",
      "  Downloading chromadb-1.0.12-cp39-abi3-manylinux_2_17_x86_64.manylinux2014_x86_64.whl (19.3 MB)\n",
      "\u001b[2K     \u001b[90m━━━━━━━━━━━━━━━━━━━━━━━━━━━━━━━━━━━━━━━━\u001b[0m \u001b[32m19.3/19.3 MB\u001b[0m \u001b[31m33.9 MB/s\u001b[0m eta \u001b[36m0:00:00\u001b[0m00:01\u001b[0m00:01\u001b[0m\n",
      "\u001b[?25hRequirement already satisfied: orjson>=3.9.12 in /home/student/.local/lib/python3.10/site-packages (from chromadb) (3.9.15)\n",
      "Collecting pypika>=0.48.9\n",
      "  Downloading PyPika-0.48.9.tar.gz (67 kB)\n",
      "\u001b[2K     \u001b[90m━━━━━━━━━━━━━━━━━━━━━━━━━━━━━━━━━━━━━━━━\u001b[0m \u001b[32m67.3/67.3 kB\u001b[0m \u001b[31m1.2 MB/s\u001b[0m eta \u001b[36m0:00:00\u001b[0mta \u001b[36m0:00:01\u001b[0m\n",
      "\u001b[?25h  Installing build dependencies ... \u001b[?25ldone\n",
      "\u001b[?25h  Getting requirements to build wheel ... \u001b[?25ldone\n",
      "\u001b[?25h  Preparing metadata (pyproject.toml) ... \u001b[?25ldone\n",
      "\u001b[?25hRequirement already satisfied: importlib-resources in /home/student/.local/lib/python3.10/site-packages (from chromadb) (6.3.0)\n",
      "Collecting fastapi==0.115.9\n",
      "  Downloading fastapi-0.115.9-py3-none-any.whl (94 kB)\n",
      "\u001b[2K     \u001b[90m━━━━━━━━━━━━━━━━━━━━━━━━━━━━━━━━━━━━━━━━\u001b[0m \u001b[32m94.9/94.9 kB\u001b[0m \u001b[31m17.7 MB/s\u001b[0m eta \u001b[36m0:00:00\u001b[0m\n",
      "\u001b[?25hCollecting tenacity>=8.2.3\n",
      "  Downloading tenacity-9.1.2-py3-none-any.whl (28 kB)\n",
      "Collecting posthog>=2.4.0\n",
      "  Downloading posthog-5.0.0-py3-none-any.whl (100 kB)\n",
      "\u001b[2K     \u001b[90m━━━━━━━━━━━━━━━━━━━━━━━━━━━━━━━━━━━━━━━\u001b[0m \u001b[32m100.0/100.0 kB\u001b[0m \u001b[31m6.4 MB/s\u001b[0m eta \u001b[36m0:00:00\u001b[0m\n",
      "\u001b[?25hCollecting opentelemetry-sdk>=1.2.0\n",
      "  Downloading opentelemetry_sdk-1.34.1-py3-none-any.whl (118 kB)\n",
      "\u001b[2K     \u001b[90m━━━━━━━━━━━━━━━━━━━━━━━━━━━━━━━━━━━━━━\u001b[0m \u001b[32m118.5/118.5 kB\u001b[0m \u001b[31m21.0 MB/s\u001b[0m eta \u001b[36m0:00:00\u001b[0m\n",
      "\u001b[?25hRequirement already satisfied: tokenizers>=0.13.2 in /opt/conda/lib/python3.10/site-packages (from chromadb) (0.15.2)\n",
      "Collecting mmh3>=4.0.1\n",
      "  Downloading mmh3-5.1.0-cp310-cp310-manylinux_2_5_x86_64.manylinux1_x86_64.manylinux_2_17_x86_64.manylinux2014_x86_64.whl (99 kB)\n",
      "\u001b[2K     \u001b[90m━━━━━━━━━━━━━━━━━━━━━━━━━━━━━━━━━━━━━━━━\u001b[0m \u001b[32m99.2/99.2 kB\u001b[0m \u001b[31m18.6 MB/s\u001b[0m eta \u001b[36m0:00:00\u001b[0m\n",
      "\u001b[?25hCollecting grpcio>=1.58.0\n",
      "  Downloading grpcio-1.73.0-cp310-cp310-manylinux_2_17_x86_64.manylinux2014_x86_64.whl (6.0 MB)\n",
      "\u001b[2K     \u001b[90m━━━━━━━━━━━━━━━━━━━━━━━━━━━━━━━━━━━━━━━━\u001b[0m \u001b[32m6.0/6.0 MB\u001b[0m \u001b[31m89.0 MB/s\u001b[0m eta \u001b[36m0:00:00\u001b[0mta \u001b[36m0:00:01\u001b[0m\n",
      "\u001b[?25hCollecting bcrypt>=4.0.1\n",
      "  Downloading bcrypt-4.3.0-cp39-abi3-manylinux_2_28_x86_64.whl (284 kB)\n",
      "\u001b[2K     \u001b[90m━━━━━━━━━━━━━━━━━━━━━━━━━━━━━━━━━━━━━━\u001b[0m \u001b[32m284.5/284.5 kB\u001b[0m \u001b[31m34.4 MB/s\u001b[0m eta \u001b[36m0:00:00\u001b[0m\n",
      "\u001b[?25hCollecting build>=1.0.3\n",
      "  Downloading build-1.2.2.post1-py3-none-any.whl (22 kB)\n",
      "Requirement already satisfied: typing-extensions>=4.5.0 in /home/student/.local/lib/python3.10/site-packages (from chromadb) (4.14.0)\n",
      "Requirement already satisfied: overrides>=7.3.1 in /opt/conda/lib/python3.10/site-packages (from chromadb) (7.7.0)\n",
      "Requirement already satisfied: pyyaml>=6.0.0 in /home/student/.local/lib/python3.10/site-packages (from chromadb) (6.0.1)\n",
      "Requirement already satisfied: jsonschema>=4.19.0 in /home/student/.local/lib/python3.10/site-packages (from chromadb) (4.21.1)\n",
      "Requirement already satisfied: pydantic>=1.9 in /home/student/.local/lib/python3.10/site-packages (from chromadb) (2.11.7)\n",
      "Requirement already satisfied: uvicorn[standard]>=0.18.3 in /home/student/.local/lib/python3.10/site-packages (from chromadb) (0.28.0)\n",
      "Requirement already satisfied: httpx>=0.27.0 in /home/student/.local/lib/python3.10/site-packages (from chromadb) (0.27.0)\n",
      "Collecting onnxruntime>=1.14.1\n",
      "  Downloading onnxruntime-1.22.0-cp310-cp310-manylinux_2_27_x86_64.manylinux_2_28_x86_64.whl (16.4 MB)\n",
      "\u001b[2K     \u001b[90m━━━━━━━━━━━━━━━━━━━━━━━━━━━━━━━━━━━━━━━━\u001b[0m \u001b[32m16.4/16.4 MB\u001b[0m \u001b[31m80.0 MB/s\u001b[0m eta \u001b[36m0:00:00\u001b[0m00:01\u001b[0m00:01\u001b[0m\n",
      "\u001b[?25hRequirement already satisfied: numpy>=1.22.5 in /home/student/.local/lib/python3.10/site-packages (from chromadb) (1.26.4)\n",
      "Collecting opentelemetry-api>=1.2.0\n",
      "  Downloading opentelemetry_api-1.34.1-py3-none-any.whl (65 kB)\n",
      "\u001b[2K     \u001b[90m━━━━━━━━━━━━━━━━━━━━━━━━━━━━━━━━━━━━━━━━\u001b[0m \u001b[32m65.8/65.8 kB\u001b[0m \u001b[31m2.2 MB/s\u001b[0m eta \u001b[36m0:00:00\u001b[0m\n",
      "\u001b[?25hCollecting opentelemetry-exporter-otlp-proto-grpc>=1.2.0\n",
      "  Downloading opentelemetry_exporter_otlp_proto_grpc-1.34.1-py3-none-any.whl (18 kB)\n",
      "Collecting typer>=0.9.0\n",
      "  Downloading typer-0.16.0-py3-none-any.whl (46 kB)\n",
      "\u001b[2K     \u001b[90m━━━━━━━━━━━━━━━━━━━━━━━━━━━━━━━━━━━━━━━━\u001b[0m \u001b[32m46.3/46.3 kB\u001b[0m \u001b[31m2.6 MB/s\u001b[0m eta \u001b[36m0:00:00\u001b[0m\n",
      "\u001b[?25hCollecting rich>=10.11.0\n",
      "  Downloading rich-14.0.0-py3-none-any.whl (243 kB)\n",
      "\u001b[2K     \u001b[90m━━━━━━━━━━━━━━━━━━━━━━━━━━━━━━━━━━━━━━\u001b[0m \u001b[32m243.2/243.2 kB\u001b[0m \u001b[31m26.0 MB/s\u001b[0m eta \u001b[36m0:00:00\u001b[0m\n",
      "\u001b[?25hRequirement already satisfied: tqdm>=4.65.0 in /home/student/.local/lib/python3.10/site-packages (from chromadb) (4.66.2)\n",
      "Collecting opentelemetry-instrumentation-fastapi>=0.41b0\n",
      "  Downloading opentelemetry_instrumentation_fastapi-0.55b1-py3-none-any.whl (12 kB)\n",
      "Collecting kubernetes>=28.1.0\n",
      "  Downloading kubernetes-33.1.0-py2.py3-none-any.whl (1.9 MB)\n",
      "\u001b[2K     \u001b[90m━━━━━━━━━━━━━━━━━━━━━━━━━━━━━━━━━━━━━━━━\u001b[0m \u001b[32m1.9/1.9 MB\u001b[0m \u001b[31m61.8 MB/s\u001b[0m eta \u001b[36m0:00:00\u001b[0m\n",
      "\u001b[?25hCollecting starlette<0.46.0,>=0.40.0\n",
      "  Downloading starlette-0.45.3-py3-none-any.whl (71 kB)\n",
      "\u001b[2K     \u001b[90m━━━━━━━━━━━━━━━━━━━━━━━━━━━━━━━━━━━━━━━━\u001b[0m \u001b[32m71.5/71.5 kB\u001b[0m \u001b[31m9.1 MB/s\u001b[0m eta \u001b[36m0:00:00\u001b[0m\n",
      "\u001b[?25hRequirement already satisfied: tomli>=1.1.0 in /opt/conda/lib/python3.10/site-packages (from build>=1.0.3->chromadb) (2.0.1)\n",
      "Requirement already satisfied: packaging>=19.1 in /home/student/.local/lib/python3.10/site-packages (from build>=1.0.3->chromadb) (24.0)\n",
      "Collecting pyproject_hooks\n",
      "  Downloading pyproject_hooks-1.2.0-py3-none-any.whl (10 kB)\n",
      "Requirement already satisfied: anyio in /home/student/.local/lib/python3.10/site-packages (from httpx>=0.27.0->chromadb) (4.3.0)\n",
      "Requirement already satisfied: certifi in /home/student/.local/lib/python3.10/site-packages (from httpx>=0.27.0->chromadb) (2024.2.2)\n",
      "Requirement already satisfied: httpcore==1.* in /home/student/.local/lib/python3.10/site-packages (from httpx>=0.27.0->chromadb) (1.0.4)\n",
      "Requirement already satisfied: sniffio in /home/student/.local/lib/python3.10/site-packages (from httpx>=0.27.0->chromadb) (1.3.1)\n",
      "Requirement already satisfied: idna in /home/student/.local/lib/python3.10/site-packages (from httpx>=0.27.0->chromadb) (3.6)\n",
      "Requirement already satisfied: h11<0.15,>=0.13 in /home/student/.local/lib/python3.10/site-packages (from httpcore==1.*->httpx>=0.27.0->chromadb) (0.14.0)\n",
      "Requirement already satisfied: attrs>=22.2.0 in /home/student/.local/lib/python3.10/site-packages (from jsonschema>=4.19.0->chromadb) (23.2.0)\n",
      "Requirement already satisfied: jsonschema-specifications>=2023.03.6 in /home/student/.local/lib/python3.10/site-packages (from jsonschema>=4.19.0->chromadb) (2023.12.1)\n",
      "Requirement already satisfied: rpds-py>=0.7.1 in /home/student/.local/lib/python3.10/site-packages (from jsonschema>=4.19.0->chromadb) (0.18.0)\n",
      "Requirement already satisfied: referencing>=0.28.4 in /home/student/.local/lib/python3.10/site-packages (from jsonschema>=4.19.0->chromadb) (0.33.0)\n",
      "Requirement already satisfied: requests in /home/student/.local/lib/python3.10/site-packages (from kubernetes>=28.1.0->chromadb) (2.31.0)\n",
      "Requirement already satisfied: six>=1.9.0 in /home/student/.local/lib/python3.10/site-packages (from kubernetes>=28.1.0->chromadb) (1.16.0)\n",
      "Collecting google-auth>=1.0.1\n",
      "  Downloading google_auth-2.40.3-py2.py3-none-any.whl (216 kB)\n",
      "\u001b[2K     \u001b[90m━━━━━━━━━━━━━━━━━━━━━━━━━━━━━━━━━━━━━━\u001b[0m \u001b[32m216.1/216.1 kB\u001b[0m \u001b[31m30.2 MB/s\u001b[0m eta \u001b[36m0:00:00\u001b[0m\n",
      "\u001b[?25hRequirement already satisfied: urllib3>=1.24.2 in /home/student/.local/lib/python3.10/site-packages (from kubernetes>=28.1.0->chromadb) (2.2.1)\n",
      "Requirement already satisfied: python-dateutil>=2.5.3 in /home/student/.local/lib/python3.10/site-packages (from kubernetes>=28.1.0->chromadb) (2.9.0.post0)\n",
      "Collecting durationpy>=0.7\n",
      "  Downloading durationpy-0.10-py3-none-any.whl (3.9 kB)\n",
      "Collecting oauthlib>=3.2.2\n",
      "  Downloading oauthlib-3.2.2-py3-none-any.whl (151 kB)\n",
      "\u001b[2K     \u001b[90m━━━━━━━━━━━━━━━━━━━━━━━━━━━━━━━━━━━━━━\u001b[0m \u001b[32m151.7/151.7 kB\u001b[0m \u001b[31m26.1 MB/s\u001b[0m eta \u001b[36m0:00:00\u001b[0m\n"
     ]
    },
    {
     "name": "stdout",
     "output_type": "stream",
     "text": [
      "\u001b[?25hCollecting requests-oauthlib\n",
      "  Downloading requests_oauthlib-2.0.0-py2.py3-none-any.whl (24 kB)\n",
      "Requirement already satisfied: websocket-client!=0.40.0,!=0.41.*,!=0.42.*,>=0.32.0 in /opt/conda/lib/python3.10/site-packages (from kubernetes>=28.1.0->chromadb) (1.7.0)\n",
      "Requirement already satisfied: protobuf in /opt/conda/lib/python3.10/site-packages (from onnxruntime>=1.14.1->chromadb) (4.25.3)\n",
      "Collecting flatbuffers\n",
      "  Downloading flatbuffers-25.2.10-py2.py3-none-any.whl (30 kB)\n",
      "Requirement already satisfied: coloredlogs in /opt/conda/lib/python3.10/site-packages (from onnxruntime>=1.14.1->chromadb) (15.0.1)\n",
      "Requirement already satisfied: sympy in /opt/conda/lib/python3.10/site-packages (from onnxruntime>=1.14.1->chromadb) (1.12)\n",
      "Requirement already satisfied: importlib-metadata<8.8.0,>=6.0 in /opt/conda/lib/python3.10/site-packages (from opentelemetry-api>=1.2.0->chromadb) (7.0.2)\n",
      "Collecting opentelemetry-exporter-otlp-proto-common==1.34.1\n",
      "  Downloading opentelemetry_exporter_otlp_proto_common-1.34.1-py3-none-any.whl (18 kB)\n",
      "Collecting opentelemetry-proto==1.34.1\n",
      "  Downloading opentelemetry_proto-1.34.1-py3-none-any.whl (55 kB)\n",
      "\u001b[2K     \u001b[90m━━━━━━━━━━━━━━━━━━━━━━━━━━━━━━━━━━━━━━━━\u001b[0m \u001b[32m55.7/55.7 kB\u001b[0m \u001b[31m11.2 MB/s\u001b[0m eta \u001b[36m0:00:00\u001b[0m\n",
      "\u001b[?25hCollecting googleapis-common-protos~=1.52\n",
      "  Downloading googleapis_common_protos-1.70.0-py3-none-any.whl (294 kB)\n",
      "\u001b[2K     \u001b[90m━━━━━━━━━━━━━━━━━━━━━━━━━━━━━━━━━━━━━━\u001b[0m \u001b[32m294.5/294.5 kB\u001b[0m \u001b[31m37.5 MB/s\u001b[0m eta \u001b[36m0:00:00\u001b[0m\n",
      "\u001b[?25hCollecting protobuf\n",
      "  Downloading protobuf-5.29.5-cp38-abi3-manylinux2014_x86_64.whl (319 kB)\n",
      "\u001b[2K     \u001b[90m━━━━━━━━━━━━━━━━━━━━━━━━━━━━━━━━━━━━━━\u001b[0m \u001b[32m319.9/319.9 kB\u001b[0m \u001b[31m38.3 MB/s\u001b[0m eta \u001b[36m0:00:00\u001b[0m\n",
      "\u001b[?25hCollecting opentelemetry-semantic-conventions==0.55b1\n",
      "  Downloading opentelemetry_semantic_conventions-0.55b1-py3-none-any.whl (196 kB)\n",
      "\u001b[2K     \u001b[90m━━━━━━━━━━━━━━━━━━━━━━━━━━━━━━━━━━━━━━\u001b[0m \u001b[32m196.2/196.2 kB\u001b[0m \u001b[31m31.4 MB/s\u001b[0m eta \u001b[36m0:00:00\u001b[0m\n",
      "\u001b[?25hCollecting opentelemetry-instrumentation-asgi==0.55b1\n",
      "  Downloading opentelemetry_instrumentation_asgi-0.55b1-py3-none-any.whl (16 kB)\n",
      "Collecting opentelemetry-util-http==0.55b1\n",
      "  Downloading opentelemetry_util_http-0.55b1-py3-none-any.whl (7.3 kB)\n",
      "Collecting opentelemetry-instrumentation==0.55b1\n",
      "  Downloading opentelemetry_instrumentation-0.55b1-py3-none-any.whl (31 kB)\n",
      "Collecting wrapt<2.0.0,>=1.0.0\n",
      "  Downloading wrapt-1.17.2-cp310-cp310-manylinux_2_5_x86_64.manylinux1_x86_64.manylinux_2_17_x86_64.manylinux2014_x86_64.whl (82 kB)\n",
      "\u001b[2K     \u001b[90m━━━━━━━━━━━━━━━━━━━━━━━━━━━━━━━━━━━━━━━━\u001b[0m \u001b[32m82.8/82.8 kB\u001b[0m \u001b[31m15.8 MB/s\u001b[0m eta \u001b[36m0:00:00\u001b[0m\n",
      "\u001b[?25hCollecting asgiref~=3.0\n",
      "  Downloading asgiref-3.8.1-py3-none-any.whl (23 kB)\n",
      "Collecting backoff>=1.10.0\n",
      "  Downloading backoff-2.2.1-py3-none-any.whl (15 kB)\n",
      "Requirement already satisfied: distro>=1.5.0 in /home/student/.local/lib/python3.10/site-packages (from posthog>=2.4.0->chromadb) (1.9.0)\n",
      "Requirement already satisfied: annotated-types>=0.6.0 in /home/student/.local/lib/python3.10/site-packages (from pydantic>=1.9->chromadb) (0.6.0)\n",
      "Requirement already satisfied: pydantic-core==2.33.2 in /home/student/.local/lib/python3.10/site-packages (from pydantic>=1.9->chromadb) (2.33.2)\n",
      "Requirement already satisfied: typing-inspection>=0.4.0 in /home/student/.local/lib/python3.10/site-packages (from pydantic>=1.9->chromadb) (0.4.1)\n",
      "Collecting markdown-it-py>=2.2.0\n",
      "  Downloading markdown_it_py-3.0.0-py3-none-any.whl (87 kB)\n",
      "\u001b[2K     \u001b[90m━━━━━━━━━━━━━━━━━━━━━━━━━━━━━━━━━━━━━━━━\u001b[0m \u001b[32m87.5/87.5 kB\u001b[0m \u001b[31m17.4 MB/s\u001b[0m eta \u001b[36m0:00:00\u001b[0m\n",
      "\u001b[?25hRequirement already satisfied: pygments<3.0.0,>=2.13.0 in /opt/conda/lib/python3.10/site-packages (from rich>=10.11.0->chromadb) (2.15.1)\n",
      "Requirement already satisfied: huggingface_hub<1.0,>=0.16.4 in /home/student/.local/lib/python3.10/site-packages (from tokenizers>=0.13.2->chromadb) (0.21.4)\n",
      "Requirement already satisfied: click>=8.0.0 in /home/student/.local/lib/python3.10/site-packages (from typer>=0.9.0->chromadb) (8.1.7)\n",
      "Collecting shellingham>=1.3.0\n",
      "  Downloading shellingham-1.5.4-py2.py3-none-any.whl (9.8 kB)\n",
      "Requirement already satisfied: websockets>=10.4 in /home/student/.local/lib/python3.10/site-packages (from uvicorn[standard]>=0.18.3->chromadb) (11.0.3)\n",
      "Collecting httptools>=0.5.0\n",
      "  Downloading httptools-0.6.4-cp310-cp310-manylinux_2_5_x86_64.manylinux1_x86_64.manylinux_2_17_x86_64.manylinux2014_x86_64.whl (442 kB)\n",
      "\u001b[2K     \u001b[90m━━━━━━━━━━━━━━━━━━━━━━━━━━━━━━━━━━━━━━\u001b[0m \u001b[32m442.1/442.1 kB\u001b[0m \u001b[31m48.0 MB/s\u001b[0m eta \u001b[36m0:00:00\u001b[0m\n",
      "\u001b[?25hCollecting uvloop!=0.15.0,!=0.15.1,>=0.14.0\n",
      "  Downloading uvloop-0.21.0-cp310-cp310-manylinux_2_17_x86_64.manylinux2014_x86_64.whl (3.8 MB)\n",
      "\u001b[2K     \u001b[90m━━━━━━━━━━━━━━━━━━━━━━━━━━━━━━━━━━━━━━━━\u001b[0m \u001b[32m3.8/3.8 MB\u001b[0m \u001b[31m88.8 MB/s\u001b[0m eta \u001b[36m0:00:00\u001b[0m:00:01\u001b[0m\n",
      "\u001b[?25hRequirement already satisfied: python-dotenv>=0.13 in /home/student/.local/lib/python3.10/site-packages (from uvicorn[standard]>=0.18.3->chromadb) (1.1.0)\n",
      "Collecting watchfiles>=0.13\n",
      "  Downloading watchfiles-1.1.0-cp310-cp310-manylinux_2_17_x86_64.manylinux2014_x86_64.whl (453 kB)\n",
      "\u001b[2K     \u001b[90m━━━━━━━━━━━━━━━━━━━━━━━━━━━━━━━━━━━━━━\u001b[0m \u001b[32m453.1/453.1 kB\u001b[0m \u001b[31m47.7 MB/s\u001b[0m eta \u001b[36m0:00:00\u001b[0m\n",
      "\u001b[?25hCollecting cachetools<6.0,>=2.0.0\n",
      "  Downloading cachetools-5.5.2-py3-none-any.whl (10 kB)\n",
      "Collecting pyasn1-modules>=0.2.1\n",
      "  Downloading pyasn1_modules-0.4.2-py3-none-any.whl (181 kB)\n",
      "\u001b[2K     \u001b[90m━━━━━━━━━━━━━━━━━━━━━━━━━━━━━━━━━━━━━━\u001b[0m \u001b[32m181.3/181.3 kB\u001b[0m \u001b[31m25.8 MB/s\u001b[0m eta \u001b[36m0:00:00\u001b[0m\n",
      "\u001b[?25hCollecting rsa<5,>=3.1.4\n",
      "  Downloading rsa-4.9.1-py3-none-any.whl (34 kB)\n",
      "Requirement already satisfied: filelock in /home/student/.local/lib/python3.10/site-packages (from huggingface_hub<1.0,>=0.16.4->tokenizers>=0.13.2->chromadb) (3.13.1)\n",
      "Requirement already satisfied: fsspec>=2023.5.0 in /home/student/.local/lib/python3.10/site-packages (from huggingface_hub<1.0,>=0.16.4->tokenizers>=0.13.2->chromadb) (2024.2.0)\n",
      "Requirement already satisfied: zipp>=0.5 in /opt/conda/lib/python3.10/site-packages (from importlib-metadata<8.8.0,>=6.0->opentelemetry-api>=1.2.0->chromadb) (3.18.0)\n",
      "Collecting mdurl~=0.1\n",
      "  Downloading mdurl-0.1.2-py3-none-any.whl (10.0 kB)\n",
      "Requirement already satisfied: charset-normalizer<4,>=2 in /home/student/.local/lib/python3.10/site-packages (from requests->kubernetes>=28.1.0->chromadb) (3.3.2)\n",
      "Requirement already satisfied: exceptiongroup>=1.0.2 in /home/student/.local/lib/python3.10/site-packages (from anyio->httpx>=0.27.0->chromadb) (1.2.0)\n",
      "Requirement already satisfied: humanfriendly>=9.1 in /opt/conda/lib/python3.10/site-packages (from coloredlogs->onnxruntime>=1.14.1->chromadb) (10.0)\n",
      "Requirement already satisfied: mpmath>=0.19 in /opt/conda/lib/python3.10/site-packages (from sympy->onnxruntime>=1.14.1->chromadb) (1.3.0)\n",
      "Collecting pyasn1<0.7.0,>=0.6.1\n",
      "  Downloading pyasn1-0.6.1-py3-none-any.whl (83 kB)\n",
      "\u001b[2K     \u001b[90m━━━━━━━━━━━━━━━━━━━━━━━━━━━━━━━━━━━━━━━━\u001b[0m \u001b[32m83.1/83.1 kB\u001b[0m \u001b[31m18.3 MB/s\u001b[0m eta \u001b[36m0:00:00\u001b[0m\n",
      "\u001b[?25hBuilding wheels for collected packages: pypika\n",
      "  Building wheel for pypika (pyproject.toml) ... \u001b[?25ldone\n",
      "\u001b[?25h  Created wheel for pypika: filename=pypika-0.48.9-py2.py3-none-any.whl size=53803 sha256=fb0ca50fd24a5de4794c761a3d55abc19035a48248d8ca78113aec3405fe8a22\n",
      "  Stored in directory: /home/student/.cache/pip/wheels/e1/26/51/d0bffb3d2fd82256676d7ad3003faea3bd6dddc9577af665f4\n",
      "Successfully built pypika\n",
      "Installing collected packages: pypika, flatbuffers, durationpy, wrapt, uvloop, tenacity, shellingham, pyproject_hooks, pyasn1, protobuf, opentelemetry-util-http, oauthlib, mmh3, mdurl, httptools, grpcio, cachetools, bcrypt, backoff, asgiref, watchfiles, starlette, rsa, requests-oauthlib, pyasn1-modules, posthog, opentelemetry-proto, opentelemetry-api, onnxruntime, markdown-it-py, googleapis-common-protos, build, rich, opentelemetry-semantic-conventions, opentelemetry-exporter-otlp-proto-common, google-auth, fastapi, typer, opentelemetry-sdk, opentelemetry-instrumentation, kubernetes, opentelemetry-instrumentation-asgi, opentelemetry-exporter-otlp-proto-grpc, opentelemetry-instrumentation-fastapi, chromadb\n",
      "\u001b[33m  WARNING: The script watchfiles is installed in '/home/student/.local/bin' which is not on PATH.\n",
      "  Consider adding this directory to PATH or, if you prefer to suppress this warning, use --no-warn-script-location.\u001b[0m\u001b[33m\n",
      "\u001b[0m  Attempting uninstall: starlette\n",
      "    Found existing installation: starlette 0.36.3\n",
      "    Uninstalling starlette-0.36.3:\n"
     ]
    },
    {
     "name": "stdout",
     "output_type": "stream",
     "text": [
      "      Successfully uninstalled starlette-0.36.3\n",
      "\u001b[33m  WARNING: The scripts pyrsa-decrypt, pyrsa-encrypt, pyrsa-keygen, pyrsa-priv2pub, pyrsa-sign and pyrsa-verify are installed in '/home/student/.local/bin' which is not on PATH.\n",
      "  Consider adding this directory to PATH or, if you prefer to suppress this warning, use --no-warn-script-location.\u001b[0m\u001b[33m\n",
      "\u001b[0m\u001b[33m  WARNING: The script onnxruntime_test is installed in '/home/student/.local/bin' which is not on PATH.\n",
      "  Consider adding this directory to PATH or, if you prefer to suppress this warning, use --no-warn-script-location.\u001b[0m\u001b[33m\n",
      "\u001b[0m\u001b[33m  WARNING: The script markdown-it is installed in '/home/student/.local/bin' which is not on PATH.\n",
      "  Consider adding this directory to PATH or, if you prefer to suppress this warning, use --no-warn-script-location.\u001b[0m\u001b[33m\n",
      "\u001b[0m\u001b[33m  WARNING: The script pyproject-build is installed in '/home/student/.local/bin' which is not on PATH.\n",
      "  Consider adding this directory to PATH or, if you prefer to suppress this warning, use --no-warn-script-location.\u001b[0m\u001b[33m\n",
      "\u001b[0m  Attempting uninstall: fastapi\n",
      "    Found existing installation: fastapi 0.110.0\n",
      "    Uninstalling fastapi-0.110.0:\n",
      "      Successfully uninstalled fastapi-0.110.0\n",
      "\u001b[33m  WARNING: The script fastapi is installed in '/home/student/.local/bin' which is not on PATH.\n",
      "  Consider adding this directory to PATH or, if you prefer to suppress this warning, use --no-warn-script-location.\u001b[0m\u001b[33m\n",
      "\u001b[0m\u001b[33m  WARNING: The script typer is installed in '/home/student/.local/bin' which is not on PATH.\n",
      "  Consider adding this directory to PATH or, if you prefer to suppress this warning, use --no-warn-script-location.\u001b[0m\u001b[33m\n",
      "\u001b[0m\u001b[33m  WARNING: The scripts opentelemetry-bootstrap and opentelemetry-instrument are installed in '/home/student/.local/bin' which is not on PATH.\n",
      "  Consider adding this directory to PATH or, if you prefer to suppress this warning, use --no-warn-script-location.\u001b[0m\u001b[33m\n",
      "\u001b[0m\u001b[33m  WARNING: The script chroma is installed in '/home/student/.local/bin' which is not on PATH.\n",
      "  Consider adding this directory to PATH or, if you prefer to suppress this warning, use --no-warn-script-location.\u001b[0m\u001b[33m\n",
      "\u001b[0mSuccessfully installed asgiref-3.8.1 backoff-2.2.1 bcrypt-4.3.0 build-1.2.2.post1 cachetools-5.5.2 chromadb-1.0.12 durationpy-0.10 fastapi-0.115.9 flatbuffers-25.2.10 google-auth-2.40.3 googleapis-common-protos-1.70.0 grpcio-1.73.0 httptools-0.6.4 kubernetes-33.1.0 markdown-it-py-3.0.0 mdurl-0.1.2 mmh3-5.1.0 oauthlib-3.2.2 onnxruntime-1.22.0 opentelemetry-api-1.34.1 opentelemetry-exporter-otlp-proto-common-1.34.1 opentelemetry-exporter-otlp-proto-grpc-1.34.1 opentelemetry-instrumentation-0.55b1 opentelemetry-instrumentation-asgi-0.55b1 opentelemetry-instrumentation-fastapi-0.55b1 opentelemetry-proto-1.34.1 opentelemetry-sdk-1.34.1 opentelemetry-semantic-conventions-0.55b1 opentelemetry-util-http-0.55b1 posthog-5.0.0 protobuf-5.29.5 pyasn1-0.6.1 pyasn1-modules-0.4.2 pypika-0.48.9 pyproject_hooks-1.2.0 requests-oauthlib-2.0.0 rich-14.0.0 rsa-4.9.1 shellingham-1.5.4 starlette-0.45.3 tenacity-9.1.2 typer-0.16.0 uvloop-0.21.0 watchfiles-1.1.0 wrapt-1.17.2\n"
     ]
    }
   ],
   "source": [
    "!pip install --upgrade chromadb"
   ]
  },
  {
   "cell_type": "code",
   "execution_count": 4,
   "id": "63da0d17",
   "metadata": {},
   "outputs": [
    {
     "name": "stdout",
     "output_type": "stream",
     "text": [
      "Defaulting to user installation because normal site-packages is not writeable\n",
      "Requirement already satisfied: pydantic in /home/student/.local/lib/python3.10/site-packages (2.11.7)\n",
      "Requirement already satisfied: pydantic-core==2.33.2 in /home/student/.local/lib/python3.10/site-packages (from pydantic) (2.33.2)\n",
      "Requirement already satisfied: typing-extensions>=4.12.2 in /home/student/.local/lib/python3.10/site-packages (from pydantic) (4.14.0)\n",
      "Requirement already satisfied: annotated-types>=0.6.0 in /home/student/.local/lib/python3.10/site-packages (from pydantic) (0.6.0)\n",
      "Requirement already satisfied: typing-inspection>=0.4.0 in /home/student/.local/lib/python3.10/site-packages (from pydantic) (0.4.1)\n"
     ]
    }
   ],
   "source": [
    "!pip install --upgrade pydantic"
   ]
  },
  {
   "cell_type": "code",
   "execution_count": 3,
   "id": "9d3c5909",
   "metadata": {},
   "outputs": [
    {
     "name": "stdout",
     "output_type": "stream",
     "text": [
      "Defaulting to user installation because normal site-packages is not writeable\n",
      "Collecting pydantic-settings\n",
      "  Downloading pydantic_settings-2.9.1-py3-none-any.whl (44 kB)\n",
      "\u001b[2K     \u001b[90m━━━━━━━━━━━━━━━━━━━━━━━━━━━━━━━━━━━━━━━\u001b[0m \u001b[32m44.4/44.4 kB\u001b[0m \u001b[31m130.2 kB/s\u001b[0m eta \u001b[36m0:00:00\u001b[0m \u001b[36m0:00:01\u001b[0m\n",
      "\u001b[?25hCollecting python-dotenv>=0.21.0\n",
      "  Downloading python_dotenv-1.1.0-py3-none-any.whl (20 kB)\n",
      "Collecting pydantic>=2.7.0\n",
      "  Downloading pydantic-2.11.7-py3-none-any.whl (444 kB)\n",
      "\u001b[2K     \u001b[90m━━━━━━━━━━━━━━━━━━━━━━━━━━━━━━━━━━━━━━━\u001b[0m \u001b[32m444.8/444.8 kB\u001b[0m \u001b[31m9.5 MB/s\u001b[0m eta \u001b[36m0:00:00\u001b[0m00:01\u001b[0m\n",
      "\u001b[?25hCollecting typing-inspection>=0.4.0\n",
      "  Downloading typing_inspection-0.4.1-py3-none-any.whl (14 kB)\n",
      "Collecting pydantic-core==2.33.2\n",
      "  Downloading pydantic_core-2.33.2-cp310-cp310-manylinux_2_17_x86_64.manylinux2014_x86_64.whl (2.0 MB)\n",
      "\u001b[2K     \u001b[90m━━━━━━━━━━━━━━━━━━━━━━━━━━━━━━━━━━━━━━━━\u001b[0m \u001b[32m2.0/2.0 MB\u001b[0m \u001b[31m19.9 MB/s\u001b[0m eta \u001b[36m0:00:00\u001b[0m00:01\u001b[0m\n",
      "\u001b[?25hRequirement already satisfied: annotated-types>=0.6.0 in /home/student/.local/lib/python3.10/site-packages (from pydantic>=2.7.0->pydantic-settings) (0.6.0)\n",
      "Requirement already satisfied: typing-extensions>=4.12.2 in /home/student/.local/lib/python3.10/site-packages (from pydantic>=2.7.0->pydantic-settings) (4.14.0)\n",
      "Installing collected packages: typing-inspection, python-dotenv, pydantic-core, pydantic, pydantic-settings\n",
      "\u001b[33m  WARNING: The script dotenv is installed in '/home/student/.local/bin' which is not on PATH.\n",
      "  Consider adding this directory to PATH or, if you prefer to suppress this warning, use --no-warn-script-location.\u001b[0m\u001b[33m\n",
      "\u001b[0m  Attempting uninstall: pydantic-core\n",
      "    Found existing installation: pydantic_core 2.16.3\n",
      "    Uninstalling pydantic_core-2.16.3:\n",
      "      Successfully uninstalled pydantic_core-2.16.3\n",
      "  Attempting uninstall: pydantic\n",
      "    Found existing installation: pydantic 2.6.4\n",
      "    Uninstalling pydantic-2.6.4:\n",
      "      Successfully uninstalled pydantic-2.6.4\n",
      "Successfully installed pydantic-2.11.7 pydantic-core-2.33.2 pydantic-settings-2.9.1 python-dotenv-1.1.0 typing-inspection-0.4.1\n"
     ]
    }
   ],
   "source": [
    "!pip install pydantic-settings"
   ]
  },
  {
   "cell_type": "code",
   "execution_count": 6,
   "id": "cc3e9346",
   "metadata": {},
   "outputs": [
    {
     "name": "stdout",
     "output_type": "stream",
     "text": [
      "Defaulting to user installation because normal site-packages is not writeable\n",
      "Collecting langchain\n",
      "  Downloading langchain-0.3.25-py3-none-any.whl (1.0 MB)\n",
      "\u001b[2K     \u001b[90m━━━━━━━━━━━━━━━━━━━━━━━━━━━━━━━━━━━━━━━━\u001b[0m \u001b[32m1.0/1.0 MB\u001b[0m \u001b[31m10.2 MB/s\u001b[0m eta \u001b[36m0:00:00\u001b[0m00:01\u001b[0m0:01\u001b[0m\n",
      "\u001b[?25hCollecting SQLAlchemy<3,>=1.4\n",
      "  Downloading sqlalchemy-2.0.41-cp310-cp310-manylinux_2_17_x86_64.manylinux2014_x86_64.whl (3.2 MB)\n",
      "\u001b[2K     \u001b[90m━━━━━━━━━━━━━━━━━━━━━━━━━━━━━━━━━━━━━━━━\u001b[0m \u001b[32m3.2/3.2 MB\u001b[0m \u001b[31m71.9 MB/s\u001b[0m eta \u001b[36m0:00:00\u001b[0m:00:01\u001b[0m\n",
      "\u001b[?25hCollecting langchain-core<1.0.0,>=0.3.58\n",
      "  Downloading langchain_core-0.3.65-py3-none-any.whl (438 kB)\n",
      "\u001b[2K     \u001b[90m━━━━━━━━━━━━━━━━━━━━━━━━━━━━━━━━━━━━━━\u001b[0m \u001b[32m438.1/438.1 kB\u001b[0m \u001b[31m44.6 MB/s\u001b[0m eta \u001b[36m0:00:00\u001b[0m\n",
      "\u001b[?25hRequirement already satisfied: PyYAML>=5.3 in /home/student/.local/lib/python3.10/site-packages (from langchain) (6.0.1)\n",
      "Requirement already satisfied: async-timeout<5.0.0,>=4.0.0 in /opt/conda/lib/python3.10/site-packages (from langchain) (4.0.3)\n",
      "Collecting langchain-text-splitters<1.0.0,>=0.3.8\n",
      "  Downloading langchain_text_splitters-0.3.8-py3-none-any.whl (32 kB)\n",
      "Requirement already satisfied: requests<3,>=2 in /home/student/.local/lib/python3.10/site-packages (from langchain) (2.31.0)\n",
      "Requirement already satisfied: pydantic<3.0.0,>=2.7.4 in /home/student/.local/lib/python3.10/site-packages (from langchain) (2.11.7)\n",
      "Collecting langsmith<0.4,>=0.1.17\n",
      "  Downloading langsmith-0.3.45-py3-none-any.whl (363 kB)\n",
      "\u001b[2K     \u001b[90m━━━━━━━━━━━━━━━━━━━━━━━━━━━━━━━━━━━━━━\u001b[0m \u001b[32m363.0/363.0 kB\u001b[0m \u001b[31m43.5 MB/s\u001b[0m eta \u001b[36m0:00:00\u001b[0m\n",
      "\u001b[?25hCollecting jsonpatch<2.0,>=1.33\n",
      "  Downloading jsonpatch-1.33-py2.py3-none-any.whl (12 kB)\n",
      "Requirement already satisfied: typing-extensions>=4.7 in /home/student/.local/lib/python3.10/site-packages (from langchain-core<1.0.0,>=0.3.58->langchain) (4.14.0)\n",
      "Requirement already satisfied: packaging<25,>=23.2 in /home/student/.local/lib/python3.10/site-packages (from langchain-core<1.0.0,>=0.3.58->langchain) (24.0)\n",
      "Requirement already satisfied: tenacity!=8.4.0,<10.0.0,>=8.1.0 in /home/student/.local/lib/python3.10/site-packages (from langchain-core<1.0.0,>=0.3.58->langchain) (9.1.2)\n",
      "Requirement already satisfied: httpx<1,>=0.23.0 in /home/student/.local/lib/python3.10/site-packages (from langsmith<0.4,>=0.1.17->langchain) (0.27.0)\n",
      "Collecting zstandard<0.24.0,>=0.23.0\n",
      "  Downloading zstandard-0.23.0-cp310-cp310-manylinux_2_17_x86_64.manylinux2014_x86_64.whl (5.4 MB)\n",
      "\u001b[2K     \u001b[90m━━━━━━━━━━━━━━━━━━━━━━━━━━━━━━━━━━━━━━━━\u001b[0m \u001b[32m5.4/5.4 MB\u001b[0m \u001b[31m75.5 MB/s\u001b[0m eta \u001b[36m0:00:00\u001b[0m:00:01\u001b[0m00:01\u001b[0m\n",
      "\u001b[?25hRequirement already satisfied: orjson<4.0.0,>=3.9.14 in /home/student/.local/lib/python3.10/site-packages (from langsmith<0.4,>=0.1.17->langchain) (3.9.15)\n",
      "Collecting requests-toolbelt<2.0.0,>=1.0.0\n",
      "  Downloading requests_toolbelt-1.0.0-py2.py3-none-any.whl (54 kB)\n",
      "\u001b[2K     \u001b[90m━━━━━━━━━━━━━━━━━━━━━━━━━━━━━━━━━━━━━━━━\u001b[0m \u001b[32m54.5/54.5 kB\u001b[0m \u001b[31m15.1 MB/s\u001b[0m eta \u001b[36m0:00:00\u001b[0m\n",
      "\u001b[?25hRequirement already satisfied: typing-inspection>=0.4.0 in /home/student/.local/lib/python3.10/site-packages (from pydantic<3.0.0,>=2.7.4->langchain) (0.4.1)\n",
      "Requirement already satisfied: pydantic-core==2.33.2 in /home/student/.local/lib/python3.10/site-packages (from pydantic<3.0.0,>=2.7.4->langchain) (2.33.2)\n",
      "Requirement already satisfied: annotated-types>=0.6.0 in /home/student/.local/lib/python3.10/site-packages (from pydantic<3.0.0,>=2.7.4->langchain) (0.6.0)\n",
      "Requirement already satisfied: charset-normalizer<4,>=2 in /home/student/.local/lib/python3.10/site-packages (from requests<3,>=2->langchain) (3.3.2)\n",
      "Requirement already satisfied: urllib3<3,>=1.21.1 in /home/student/.local/lib/python3.10/site-packages (from requests<3,>=2->langchain) (2.2.1)\n",
      "Requirement already satisfied: certifi>=2017.4.17 in /home/student/.local/lib/python3.10/site-packages (from requests<3,>=2->langchain) (2024.2.2)\n",
      "Requirement already satisfied: idna<4,>=2.5 in /home/student/.local/lib/python3.10/site-packages (from requests<3,>=2->langchain) (3.6)\n",
      "Collecting greenlet>=1\n",
      "  Downloading greenlet-3.2.3-cp310-cp310-manylinux_2_24_x86_64.manylinux_2_28_x86_64.whl (582 kB)\n",
      "\u001b[2K     \u001b[90m━━━━━━━━━━━━━━━━━━━━━━━━━━━━━━━━━━━━━━\u001b[0m \u001b[32m582.2/582.2 kB\u001b[0m \u001b[31m48.4 MB/s\u001b[0m eta \u001b[36m0:00:00\u001b[0m\n",
      "\u001b[?25hRequirement already satisfied: httpcore==1.* in /home/student/.local/lib/python3.10/site-packages (from httpx<1,>=0.23.0->langsmith<0.4,>=0.1.17->langchain) (1.0.4)\n",
      "Requirement already satisfied: anyio in /home/student/.local/lib/python3.10/site-packages (from httpx<1,>=0.23.0->langsmith<0.4,>=0.1.17->langchain) (4.3.0)\n",
      "Requirement already satisfied: sniffio in /home/student/.local/lib/python3.10/site-packages (from httpx<1,>=0.23.0->langsmith<0.4,>=0.1.17->langchain) (1.3.1)\n",
      "Requirement already satisfied: h11<0.15,>=0.13 in /home/student/.local/lib/python3.10/site-packages (from httpcore==1.*->httpx<1,>=0.23.0->langsmith<0.4,>=0.1.17->langchain) (0.14.0)\n",
      "Requirement already satisfied: jsonpointer>=1.9 in /opt/conda/lib/python3.10/site-packages (from jsonpatch<2.0,>=1.33->langchain-core<1.0.0,>=0.3.58->langchain) (2.1)\n",
      "Requirement already satisfied: exceptiongroup>=1.0.2 in /home/student/.local/lib/python3.10/site-packages (from anyio->httpx<1,>=0.23.0->langsmith<0.4,>=0.1.17->langchain) (1.2.0)\n",
      "Installing collected packages: zstandard, jsonpatch, greenlet, SQLAlchemy, requests-toolbelt, langsmith, langchain-core, langchain-text-splitters, langchain\n",
      "Successfully installed SQLAlchemy-2.0.41 greenlet-3.2.3 jsonpatch-1.33 langchain-0.3.25 langchain-core-0.3.65 langchain-text-splitters-0.3.8 langsmith-0.3.45 requests-toolbelt-1.0.0 zstandard-0.23.0\n"
     ]
    }
   ],
   "source": [
    "!pip install --upgrade langchain"
   ]
  },
  {
   "cell_type": "code",
   "execution_count": 7,
   "id": "2b6973e2",
   "metadata": {},
   "outputs": [
    {
     "name": "stdout",
     "output_type": "stream",
     "text": [
      "Defaulting to user installation because normal site-packages is not writeable\n",
      "Collecting langchain-community\n",
      "  Downloading langchain_community-0.3.25-py3-none-any.whl (2.5 MB)\n",
      "\u001b[2K     \u001b[90m━━━━━━━━━━━━━━━━━━━━━━━━━━━━━━━━━━━━━━━━\u001b[0m \u001b[32m2.5/2.5 MB\u001b[0m \u001b[31m21.4 MB/s\u001b[0m eta \u001b[36m0:00:00\u001b[0m00:01\u001b[0m00:01\u001b[0m\n",
      "\u001b[?25hRequirement already satisfied: requests<3,>=2 in /home/student/.local/lib/python3.10/site-packages (from langchain-community) (2.31.0)\n",
      "Requirement already satisfied: SQLAlchemy<3,>=1.4 in /home/student/.local/lib/python3.10/site-packages (from langchain-community) (2.0.41)\n",
      "Requirement already satisfied: tenacity!=8.4.0,<10,>=8.1.0 in /home/student/.local/lib/python3.10/site-packages (from langchain-community) (9.1.2)\n",
      "Collecting dataclasses-json<0.7,>=0.5.7\n",
      "  Downloading dataclasses_json-0.6.7-py3-none-any.whl (28 kB)\n",
      "Requirement already satisfied: langsmith<0.4,>=0.1.125 in /home/student/.local/lib/python3.10/site-packages (from langchain-community) (0.3.45)\n",
      "Requirement already satisfied: PyYAML>=5.3 in /home/student/.local/lib/python3.10/site-packages (from langchain-community) (6.0.1)\n",
      "Requirement already satisfied: pydantic-settings<3.0.0,>=2.4.0 in /home/student/.local/lib/python3.10/site-packages (from langchain-community) (2.9.1)\n",
      "Requirement already satisfied: aiohttp<4.0.0,>=3.8.3 in /opt/conda/lib/python3.10/site-packages (from langchain-community) (3.9.3)\n",
      "Requirement already satisfied: langchain-core<1.0.0,>=0.3.65 in /home/student/.local/lib/python3.10/site-packages (from langchain-community) (0.3.65)\n",
      "Requirement already satisfied: numpy>=1.26.2 in /home/student/.local/lib/python3.10/site-packages (from langchain-community) (1.26.4)\n",
      "Collecting httpx-sse<1.0.0,>=0.4.0\n",
      "  Downloading httpx_sse-0.4.0-py3-none-any.whl (7.8 kB)\n",
      "Requirement already satisfied: langchain<1.0.0,>=0.3.25 in /home/student/.local/lib/python3.10/site-packages (from langchain-community) (0.3.25)\n",
      "Requirement already satisfied: attrs>=17.3.0 in /home/student/.local/lib/python3.10/site-packages (from aiohttp<4.0.0,>=3.8.3->langchain-community) (23.2.0)\n",
      "Requirement already satisfied: aiosignal>=1.1.2 in /opt/conda/lib/python3.10/site-packages (from aiohttp<4.0.0,>=3.8.3->langchain-community) (1.3.1)\n",
      "Requirement already satisfied: yarl<2.0,>=1.0 in /opt/conda/lib/python3.10/site-packages (from aiohttp<4.0.0,>=3.8.3->langchain-community) (1.9.4)\n",
      "Requirement already satisfied: multidict<7.0,>=4.5 in /opt/conda/lib/python3.10/site-packages (from aiohttp<4.0.0,>=3.8.3->langchain-community) (6.0.5)\n",
      "Requirement already satisfied: async-timeout<5.0,>=4.0 in /opt/conda/lib/python3.10/site-packages (from aiohttp<4.0.0,>=3.8.3->langchain-community) (4.0.3)\n",
      "Requirement already satisfied: frozenlist>=1.1.1 in /opt/conda/lib/python3.10/site-packages (from aiohttp<4.0.0,>=3.8.3->langchain-community) (1.4.1)\n",
      "Collecting marshmallow<4.0.0,>=3.18.0\n",
      "  Downloading marshmallow-3.26.1-py3-none-any.whl (50 kB)\n",
      "\u001b[2K     \u001b[90m━━━━━━━━━━━━━━━━━━━━━━━━━━━━━━━━━━━━━━━━\u001b[0m \u001b[32m50.9/50.9 kB\u001b[0m \u001b[31m10.5 MB/s\u001b[0m eta \u001b[36m0:00:00\u001b[0m\n",
      "\u001b[?25hCollecting typing-inspect<1,>=0.4.0\n",
      "  Downloading typing_inspect-0.9.0-py3-none-any.whl (8.8 kB)\n",
      "Requirement already satisfied: langchain-text-splitters<1.0.0,>=0.3.8 in /home/student/.local/lib/python3.10/site-packages (from langchain<1.0.0,>=0.3.25->langchain-community) (0.3.8)\n",
      "Requirement already satisfied: pydantic<3.0.0,>=2.7.4 in /home/student/.local/lib/python3.10/site-packages (from langchain<1.0.0,>=0.3.25->langchain-community) (2.11.7)\n",
      "Requirement already satisfied: packaging<25,>=23.2 in /home/student/.local/lib/python3.10/site-packages (from langchain-core<1.0.0,>=0.3.65->langchain-community) (24.0)\n",
      "Requirement already satisfied: jsonpatch<2.0,>=1.33 in /home/student/.local/lib/python3.10/site-packages (from langchain-core<1.0.0,>=0.3.65->langchain-community) (1.33)\n",
      "Requirement already satisfied: typing-extensions>=4.7 in /home/student/.local/lib/python3.10/site-packages (from langchain-core<1.0.0,>=0.3.65->langchain-community) (4.14.0)\n",
      "Requirement already satisfied: httpx<1,>=0.23.0 in /home/student/.local/lib/python3.10/site-packages (from langsmith<0.4,>=0.1.125->langchain-community) (0.27.0)\n",
      "Requirement already satisfied: orjson<4.0.0,>=3.9.14 in /home/student/.local/lib/python3.10/site-packages (from langsmith<0.4,>=0.1.125->langchain-community) (3.9.15)\n",
      "Requirement already satisfied: requests-toolbelt<2.0.0,>=1.0.0 in /home/student/.local/lib/python3.10/site-packages (from langsmith<0.4,>=0.1.125->langchain-community) (1.0.0)\n",
      "Requirement already satisfied: zstandard<0.24.0,>=0.23.0 in /home/student/.local/lib/python3.10/site-packages (from langsmith<0.4,>=0.1.125->langchain-community) (0.23.0)\n",
      "Requirement already satisfied: python-dotenv>=0.21.0 in /home/student/.local/lib/python3.10/site-packages (from pydantic-settings<3.0.0,>=2.4.0->langchain-community) (1.1.0)\n",
      "Requirement already satisfied: typing-inspection>=0.4.0 in /home/student/.local/lib/python3.10/site-packages (from pydantic-settings<3.0.0,>=2.4.0->langchain-community) (0.4.1)\n",
      "Requirement already satisfied: charset-normalizer<4,>=2 in /home/student/.local/lib/python3.10/site-packages (from requests<3,>=2->langchain-community) (3.3.2)\n",
      "Requirement already satisfied: idna<4,>=2.5 in /home/student/.local/lib/python3.10/site-packages (from requests<3,>=2->langchain-community) (3.6)\n",
      "Requirement already satisfied: urllib3<3,>=1.21.1 in /home/student/.local/lib/python3.10/site-packages (from requests<3,>=2->langchain-community) (2.2.1)\n",
      "Requirement already satisfied: certifi>=2017.4.17 in /home/student/.local/lib/python3.10/site-packages (from requests<3,>=2->langchain-community) (2024.2.2)\n",
      "Requirement already satisfied: greenlet>=1 in /home/student/.local/lib/python3.10/site-packages (from SQLAlchemy<3,>=1.4->langchain-community) (3.2.3)\n",
      "Requirement already satisfied: httpcore==1.* in /home/student/.local/lib/python3.10/site-packages (from httpx<1,>=0.23.0->langsmith<0.4,>=0.1.125->langchain-community) (1.0.4)\n",
      "Requirement already satisfied: sniffio in /home/student/.local/lib/python3.10/site-packages (from httpx<1,>=0.23.0->langsmith<0.4,>=0.1.125->langchain-community) (1.3.1)\n",
      "Requirement already satisfied: anyio in /home/student/.local/lib/python3.10/site-packages (from httpx<1,>=0.23.0->langsmith<0.4,>=0.1.125->langchain-community) (4.3.0)\n",
      "Requirement already satisfied: h11<0.15,>=0.13 in /home/student/.local/lib/python3.10/site-packages (from httpcore==1.*->httpx<1,>=0.23.0->langsmith<0.4,>=0.1.125->langchain-community) (0.14.0)\n",
      "Requirement already satisfied: jsonpointer>=1.9 in /opt/conda/lib/python3.10/site-packages (from jsonpatch<2.0,>=1.33->langchain-core<1.0.0,>=0.3.65->langchain-community) (2.1)\n",
      "Requirement already satisfied: pydantic-core==2.33.2 in /home/student/.local/lib/python3.10/site-packages (from pydantic<3.0.0,>=2.7.4->langchain<1.0.0,>=0.3.25->langchain-community) (2.33.2)\n",
      "Requirement already satisfied: annotated-types>=0.6.0 in /home/student/.local/lib/python3.10/site-packages (from pydantic<3.0.0,>=2.7.4->langchain<1.0.0,>=0.3.25->langchain-community) (0.6.0)\n",
      "Collecting mypy-extensions>=0.3.0\n",
      "  Downloading mypy_extensions-1.1.0-py3-none-any.whl (5.0 kB)\n",
      "Requirement already satisfied: exceptiongroup>=1.0.2 in /home/student/.local/lib/python3.10/site-packages (from anyio->httpx<1,>=0.23.0->langsmith<0.4,>=0.1.125->langchain-community) (1.2.0)\n",
      "Installing collected packages: mypy-extensions, marshmallow, httpx-sse, typing-inspect, dataclasses-json, langchain-community\n",
      "Successfully installed dataclasses-json-0.6.7 httpx-sse-0.4.0 langchain-community-0.3.25 marshmallow-3.26.1 mypy-extensions-1.1.0 typing-inspect-0.9.0\n"
     ]
    }
   ],
   "source": [
    "!pip install langchain-community"
   ]
  },
  {
   "cell_type": "code",
   "execution_count": 8,
   "id": "0b6891fb",
   "metadata": {},
   "outputs": [
    {
     "name": "stdout",
     "output_type": "stream",
     "text": [
      "Defaulting to user installation because normal site-packages is not writeable\n",
      "Collecting langchain-openai\n",
      "  Downloading langchain_openai-0.3.23-py3-none-any.whl (65 kB)\n",
      "\u001b[2K     \u001b[90m━━━━━━━━━━━━━━━━━━━━━━━━━━━━━━━━━━━━━━━━\u001b[0m \u001b[32m65.4/65.4 kB\u001b[0m \u001b[31m1.2 MB/s\u001b[0m eta \u001b[36m0:00:00\u001b[0ma \u001b[36m0:00:01\u001b[0m\n",
      "\u001b[?25hRequirement already satisfied: openai<2.0.0,>=1.68.2 in /home/student/.local/lib/python3.10/site-packages (from langchain-openai) (1.88.0)\n",
      "Collecting tiktoken<1,>=0.7\n",
      "  Downloading tiktoken-0.9.0-cp310-cp310-manylinux_2_17_x86_64.manylinux2014_x86_64.whl (1.2 MB)\n",
      "\u001b[2K     \u001b[90m━━━━━━━━━━━━━━━━━━━━━━━━━━━━━━━━━━━━━━━━\u001b[0m \u001b[32m1.2/1.2 MB\u001b[0m \u001b[31m21.4 MB/s\u001b[0m eta \u001b[36m0:00:00\u001b[0ma \u001b[36m0:00:01\u001b[0m\n",
      "\u001b[?25hRequirement already satisfied: langchain-core<1.0.0,>=0.3.65 in /home/student/.local/lib/python3.10/site-packages (from langchain-openai) (0.3.65)\n",
      "Requirement already satisfied: packaging<25,>=23.2 in /home/student/.local/lib/python3.10/site-packages (from langchain-core<1.0.0,>=0.3.65->langchain-openai) (24.0)\n",
      "Requirement already satisfied: typing-extensions>=4.7 in /home/student/.local/lib/python3.10/site-packages (from langchain-core<1.0.0,>=0.3.65->langchain-openai) (4.14.0)\n",
      "Requirement already satisfied: PyYAML>=5.3 in /home/student/.local/lib/python3.10/site-packages (from langchain-core<1.0.0,>=0.3.65->langchain-openai) (6.0.1)\n",
      "Requirement already satisfied: jsonpatch<2.0,>=1.33 in /home/student/.local/lib/python3.10/site-packages (from langchain-core<1.0.0,>=0.3.65->langchain-openai) (1.33)\n",
      "Requirement already satisfied: pydantic>=2.7.4 in /home/student/.local/lib/python3.10/site-packages (from langchain-core<1.0.0,>=0.3.65->langchain-openai) (2.11.7)\n",
      "Requirement already satisfied: langsmith<0.4,>=0.3.45 in /home/student/.local/lib/python3.10/site-packages (from langchain-core<1.0.0,>=0.3.65->langchain-openai) (0.3.45)\n",
      "Requirement already satisfied: tenacity!=8.4.0,<10.0.0,>=8.1.0 in /home/student/.local/lib/python3.10/site-packages (from langchain-core<1.0.0,>=0.3.65->langchain-openai) (9.1.2)\n",
      "Requirement already satisfied: tqdm>4 in /home/student/.local/lib/python3.10/site-packages (from openai<2.0.0,>=1.68.2->langchain-openai) (4.66.2)\n",
      "Requirement already satisfied: sniffio in /home/student/.local/lib/python3.10/site-packages (from openai<2.0.0,>=1.68.2->langchain-openai) (1.3.1)\n",
      "Requirement already satisfied: distro<2,>=1.7.0 in /home/student/.local/lib/python3.10/site-packages (from openai<2.0.0,>=1.68.2->langchain-openai) (1.9.0)\n",
      "Requirement already satisfied: jiter<1,>=0.4.0 in /home/student/.local/lib/python3.10/site-packages (from openai<2.0.0,>=1.68.2->langchain-openai) (0.10.0)\n",
      "Requirement already satisfied: httpx<1,>=0.23.0 in /home/student/.local/lib/python3.10/site-packages (from openai<2.0.0,>=1.68.2->langchain-openai) (0.27.0)\n",
      "Requirement already satisfied: anyio<5,>=3.5.0 in /home/student/.local/lib/python3.10/site-packages (from openai<2.0.0,>=1.68.2->langchain-openai) (4.3.0)\n",
      "Requirement already satisfied: requests>=2.26.0 in /home/student/.local/lib/python3.10/site-packages (from tiktoken<1,>=0.7->langchain-openai) (2.31.0)\n",
      "Requirement already satisfied: regex>=2022.1.18 in /opt/conda/lib/python3.10/site-packages (from tiktoken<1,>=0.7->langchain-openai) (2023.12.25)\n",
      "Requirement already satisfied: exceptiongroup>=1.0.2 in /home/student/.local/lib/python3.10/site-packages (from anyio<5,>=3.5.0->openai<2.0.0,>=1.68.2->langchain-openai) (1.2.0)\n",
      "Requirement already satisfied: idna>=2.8 in /home/student/.local/lib/python3.10/site-packages (from anyio<5,>=3.5.0->openai<2.0.0,>=1.68.2->langchain-openai) (3.6)\n",
      "Requirement already satisfied: certifi in /home/student/.local/lib/python3.10/site-packages (from httpx<1,>=0.23.0->openai<2.0.0,>=1.68.2->langchain-openai) (2024.2.2)\n",
      "Requirement already satisfied: httpcore==1.* in /home/student/.local/lib/python3.10/site-packages (from httpx<1,>=0.23.0->openai<2.0.0,>=1.68.2->langchain-openai) (1.0.4)\n",
      "Requirement already satisfied: h11<0.15,>=0.13 in /home/student/.local/lib/python3.10/site-packages (from httpcore==1.*->httpx<1,>=0.23.0->openai<2.0.0,>=1.68.2->langchain-openai) (0.14.0)\n",
      "Requirement already satisfied: jsonpointer>=1.9 in /opt/conda/lib/python3.10/site-packages (from jsonpatch<2.0,>=1.33->langchain-core<1.0.0,>=0.3.65->langchain-openai) (2.1)\n",
      "Requirement already satisfied: requests-toolbelt<2.0.0,>=1.0.0 in /home/student/.local/lib/python3.10/site-packages (from langsmith<0.4,>=0.3.45->langchain-core<1.0.0,>=0.3.65->langchain-openai) (1.0.0)\n",
      "Requirement already satisfied: zstandard<0.24.0,>=0.23.0 in /home/student/.local/lib/python3.10/site-packages (from langsmith<0.4,>=0.3.45->langchain-core<1.0.0,>=0.3.65->langchain-openai) (0.23.0)\n",
      "Requirement already satisfied: orjson<4.0.0,>=3.9.14 in /home/student/.local/lib/python3.10/site-packages (from langsmith<0.4,>=0.3.45->langchain-core<1.0.0,>=0.3.65->langchain-openai) (3.9.15)\n",
      "Requirement already satisfied: annotated-types>=0.6.0 in /home/student/.local/lib/python3.10/site-packages (from pydantic>=2.7.4->langchain-core<1.0.0,>=0.3.65->langchain-openai) (0.6.0)\n",
      "Requirement already satisfied: pydantic-core==2.33.2 in /home/student/.local/lib/python3.10/site-packages (from pydantic>=2.7.4->langchain-core<1.0.0,>=0.3.65->langchain-openai) (2.33.2)\n",
      "Requirement already satisfied: typing-inspection>=0.4.0 in /home/student/.local/lib/python3.10/site-packages (from pydantic>=2.7.4->langchain-core<1.0.0,>=0.3.65->langchain-openai) (0.4.1)\n",
      "Requirement already satisfied: urllib3<3,>=1.21.1 in /home/student/.local/lib/python3.10/site-packages (from requests>=2.26.0->tiktoken<1,>=0.7->langchain-openai) (2.2.1)\n",
      "Requirement already satisfied: charset-normalizer<4,>=2 in /home/student/.local/lib/python3.10/site-packages (from requests>=2.26.0->tiktoken<1,>=0.7->langchain-openai) (3.3.2)\n",
      "Installing collected packages: tiktoken, langchain-openai\n",
      "Successfully installed langchain-openai-0.3.23 tiktoken-0.9.0\n"
     ]
    }
   ],
   "source": [
    "!pip install langchain-openai"
   ]
  },
  {
   "cell_type": "code",
   "execution_count": 6,
   "id": "7780eeba",
   "metadata": {},
   "outputs": [
    {
     "name": "stdout",
     "output_type": "stream",
     "text": [
      "Defaulting to user installation because normal site-packages is not writeable\n",
      "Requirement already satisfied: huggingface_hub in /home/student/.local/lib/python3.10/site-packages (0.32.4)\n",
      "Requirement already satisfied: requests in /home/student/.local/lib/python3.10/site-packages (from huggingface_hub) (2.31.0)\n",
      "Requirement already satisfied: fsspec>=2023.5.0 in /home/student/.local/lib/python3.10/site-packages (from huggingface_hub) (2024.2.0)\n",
      "Requirement already satisfied: pyyaml>=5.1 in /home/student/.local/lib/python3.10/site-packages (from huggingface_hub) (6.0.1)\n",
      "Requirement already satisfied: packaging>=20.9 in /home/student/.local/lib/python3.10/site-packages (from huggingface_hub) (24.0)\n",
      "Requirement already satisfied: filelock in /home/student/.local/lib/python3.10/site-packages (from huggingface_hub) (3.13.1)\n",
      "Requirement already satisfied: tqdm>=4.42.1 in /home/student/.local/lib/python3.10/site-packages (from huggingface_hub) (4.66.2)\n",
      "Requirement already satisfied: typing-extensions>=3.7.4.3 in /home/student/.local/lib/python3.10/site-packages (from huggingface_hub) (4.14.0)\n",
      "Requirement already satisfied: hf-xet<2.0.0,>=1.1.2 in /home/student/.local/lib/python3.10/site-packages (from huggingface_hub) (1.1.3)\n",
      "Requirement already satisfied: urllib3<3,>=1.21.1 in /home/student/.local/lib/python3.10/site-packages (from requests->huggingface_hub) (2.2.1)\n",
      "Requirement already satisfied: idna<4,>=2.5 in /home/student/.local/lib/python3.10/site-packages (from requests->huggingface_hub) (3.6)\n",
      "Requirement already satisfied: certifi>=2017.4.17 in /home/student/.local/lib/python3.10/site-packages (from requests->huggingface_hub) (2024.2.2)\n",
      "Requirement already satisfied: charset-normalizer<4,>=2 in /home/student/.local/lib/python3.10/site-packages (from requests->huggingface_hub) (3.3.2)\n"
     ]
    }
   ],
   "source": [
    "!pip install --upgrade huggingface_hub"
   ]
  },
  {
   "cell_type": "code",
   "execution_count": 9,
   "id": "f10e5228",
   "metadata": {},
   "outputs": [
    {
     "name": "stdout",
     "output_type": "stream",
     "text": [
      "\u001b[33m  WARNING: The scripts huggingface-cli and tiny-agents are installed in '/home/student/.local/bin' which is not on PATH.\n",
      "  Consider adding this directory to PATH or, if you prefer to suppress this warning, use --no-warn-script-location.\u001b[0m\u001b[33m\n",
      "\u001b[0m\u001b[33m  WARNING: The scripts transformers and transformers-cli are installed in '/home/student/.local/bin' which is not on PATH.\n",
      "  Consider adding this directory to PATH or, if you prefer to suppress this warning, use --no-warn-script-location.\u001b[0m\u001b[33m\n",
      "\u001b[0m"
     ]
    }
   ],
   "source": [
    "!pip install -q git+https://github.com/huggingface/transformers.git "
   ]
  },
  {
   "cell_type": "markdown",
   "id": "60448827",
   "metadata": {
    "id": "60448827"
   },
   "source": [
    "## Table of Contents\n",
    "1. [Setup and Installation](#SETUP)\n",
    "2. [LLM Prompt and Listing Generation](#LLM)\n",
    "3. [Saving Listings](#SAVING)\n",
    "4. [SD Prompt and Image Generation](#SD)\n",
    "5. [Generate Image Embeddings](#IMAGE-EMBEDDINGS)\n",
    "6. [Generate Text Embeddings](#TEXT-EMBEDDINGS)\n",
    "7. [Combining Text+Image Embeddings](#COMBINED-EMBEDDINGS)\n",
    "8. [Writing Listings to Database](#CHROMA-DB)\n",
    "9. [Getting Buyer Profile](#PROFILE)\n",
    "10. [Generate Personalized Listings](#P-LISTINGS)\n",
    "11. [Saving Personalized Listings](#SP-LISTINGS)\n",
    "12. [Execution Blocks](#BLOCKS)\n",
    "13. [Main Execution Block](#MAIN)"
   ]
  },
  {
   "cell_type": "markdown",
   "id": "bd07e32f",
   "metadata": {
    "id": "bd07e32f"
   },
   "source": [
    "## Setup and Installation <a id='SETUP'></a>"
   ]
  },
  {
   "cell_type": "code",
   "execution_count": 4,
   "id": "6554fd4c",
   "metadata": {
    "executionInfo": {
     "elapsed": 33547,
     "status": "ok",
     "timestamp": 1749150681593,
     "user": {
      "displayName": "prabuddh rai",
      "userId": "13318045156076495622"
     },
     "user_tz": 300
    },
    "id": "6554fd4c"
   },
   "outputs": [
    {
     "name": "stderr",
     "output_type": "stream",
     "text": [
      "/opt/conda/lib/python3.10/site-packages/torchvision/io/image.py:13: UserWarning: Failed to load image Python extension: '/opt/conda/lib/python3.10/site-packages/torchvision/image.so: undefined symbol: _ZN3c1017RegisterOperatorsD1Ev'If you don't plan on using image functionality from `torchvision.io`, you can ignore this warning. Otherwise, there might be something wrong with your environment. Did you have `libjpeg` or `libpng` installed before building `torchvision` from source?\n",
      "  warn(\n"
     ]
    }
   ],
   "source": [
    "import torch\n",
    "import numpy as np\n",
    "import os\n",
    "import gc\n",
    "import re\n",
    "import json\n",
    "import shutil\n",
    "import chromadb\n",
    "from chromadb.config import Settings\n",
    "from langchain_openai import ChatOpenAI\n",
    "#from diffusers import StableDiffusionPipeline\n",
    "from transformers import ColQwen2ForRetrieval, ColQwen2Processor\n",
    "from PIL import Image"
   ]
  },
  {
   "cell_type": "code",
   "execution_count": 5,
   "id": "79768e10",
   "metadata": {
    "executionInfo": {
     "elapsed": 52,
     "status": "ok",
     "timestamp": 1749155271211,
     "user": {
      "displayName": "prabuddh rai",
      "userId": "13318045156076495622"
     },
     "user_tz": 300
    },
    "id": "79768e10"
   },
   "outputs": [],
   "source": [
    "os.environ[\"OPENAI_API_KEY\"] = \"voc-1599600020126677378679667940bb7120f80.30121104\"\n",
    "os.environ[\"OPENAI_API_BASE\"] = \"https://openai.vocareum.com/v1\""
   ]
  },
  {
   "cell_type": "code",
   "execution_count": 5,
   "id": "475eedb0",
   "metadata": {},
   "outputs": [
    {
     "data": {
      "application/vnd.jupyter.widget-view+json": {
       "model_id": "e4af393a481e481989c2b0fdec486343",
       "version_major": 2,
       "version_minor": 0
      },
      "text/plain": [
       "model_index.json:   0%|          | 0.00/541 [00:00<?, ?B/s]"
      ]
     },
     "metadata": {},
     "output_type": "display_data"
    },
    {
     "data": {
      "application/vnd.jupyter.widget-view+json": {
       "model_id": "e50da4d01f0345ab92ce87393ac864ca",
       "version_major": 2,
       "version_minor": 0
      },
      "text/plain": [
       "Fetching 15 files:   0%|          | 0/15 [00:00<?, ?it/s]"
      ]
     },
     "metadata": {},
     "output_type": "display_data"
    },
    {
     "data": {
      "application/vnd.jupyter.widget-view+json": {
       "model_id": "ef14a97cc72f4bd5843c1dd1fc675caa",
       "version_major": 2,
       "version_minor": 0
      },
      "text/plain": [
       "tokenizer/merges.txt:   0%|          | 0.00/525k [00:00<?, ?B/s]"
      ]
     },
     "metadata": {},
     "output_type": "display_data"
    },
    {
     "data": {
      "application/vnd.jupyter.widget-view+json": {
       "model_id": "7c0a311b485f4696a02fdc68a18f68e1",
       "version_major": 2,
       "version_minor": 0
      },
      "text/plain": [
       "scheduler/scheduler_config.json:   0%|          | 0.00/308 [00:00<?, ?B/s]"
      ]
     },
     "metadata": {},
     "output_type": "display_data"
    },
    {
     "data": {
      "application/vnd.jupyter.widget-view+json": {
       "model_id": "b159c65920ad4212b5a51a00364b7630",
       "version_major": 2,
       "version_minor": 0
      },
      "text/plain": [
       "text_encoder/model.fp16.safetensors:   0%|          | 0.00/246M [00:00<?, ?B/s]"
      ]
     },
     "metadata": {},
     "output_type": "display_data"
    },
    {
     "data": {
      "application/vnd.jupyter.widget-view+json": {
       "model_id": "454f7b18914541afb6f5dc4d23857af4",
       "version_major": 2,
       "version_minor": 0
      },
      "text/plain": [
       "tokenizer/special_tokens_map.json:   0%|          | 0.00/472 [00:00<?, ?B/s]"
      ]
     },
     "metadata": {},
     "output_type": "display_data"
    },
    {
     "data": {
      "application/vnd.jupyter.widget-view+json": {
       "model_id": "52667218216e4131a1cf0a1c9dacb2f3",
       "version_major": 2,
       "version_minor": 0
      },
      "text/plain": [
       "(…)ature_extractor/preprocessor_config.json:   0%|          | 0.00/342 [00:00<?, ?B/s]"
      ]
     },
     "metadata": {},
     "output_type": "display_data"
    },
    {
     "data": {
      "application/vnd.jupyter.widget-view+json": {
       "model_id": "330e5daeeed843efb31d45b942ac79cf",
       "version_major": 2,
       "version_minor": 0
      },
      "text/plain": [
       "safety_checker/model.fp16.safetensors:   0%|          | 0.00/608M [00:00<?, ?B/s]"
      ]
     },
     "metadata": {},
     "output_type": "display_data"
    },
    {
     "data": {
      "application/vnd.jupyter.widget-view+json": {
       "model_id": "4ac20ca8713544358fbcdd391dbd7567",
       "version_major": 2,
       "version_minor": 0
      },
      "text/plain": [
       "safety_checker/config.json:   0%|          | 0.00/4.72k [00:00<?, ?B/s]"
      ]
     },
     "metadata": {},
     "output_type": "display_data"
    },
    {
     "data": {
      "application/vnd.jupyter.widget-view+json": {
       "model_id": "9d66a6d85edc4753a434891504c4eb90",
       "version_major": 2,
       "version_minor": 0
      },
      "text/plain": [
       "text_encoder/config.json:   0%|          | 0.00/617 [00:00<?, ?B/s]"
      ]
     },
     "metadata": {},
     "output_type": "display_data"
    },
    {
     "data": {
      "application/vnd.jupyter.widget-view+json": {
       "model_id": "b528bd7f5c814fbb9cbea9541e61041a",
       "version_major": 2,
       "version_minor": 0
      },
      "text/plain": [
       "tokenizer/vocab.json:   0%|          | 0.00/1.06M [00:00<?, ?B/s]"
      ]
     },
     "metadata": {},
     "output_type": "display_data"
    },
    {
     "data": {
      "application/vnd.jupyter.widget-view+json": {
       "model_id": "f42b5a2175474a2ea2588818ff92e7e9",
       "version_major": 2,
       "version_minor": 0
      },
      "text/plain": [
       "unet/config.json:   0%|          | 0.00/743 [00:00<?, ?B/s]"
      ]
     },
     "metadata": {},
     "output_type": "display_data"
    },
    {
     "data": {
      "application/vnd.jupyter.widget-view+json": {
       "model_id": "a7777707c57e48a694e511b648531278",
       "version_major": 2,
       "version_minor": 0
      },
      "text/plain": [
       "vae/config.json:   0%|          | 0.00/547 [00:00<?, ?B/s]"
      ]
     },
     "metadata": {},
     "output_type": "display_data"
    },
    {
     "data": {
      "application/vnd.jupyter.widget-view+json": {
       "model_id": "e5b2021a82b742dfa235bb0b134004bf",
       "version_major": 2,
       "version_minor": 0
      },
      "text/plain": [
       "(…)diffusion_pytorch_model.fp16.safetensors:   0%|          | 0.00/1.72G [00:00<?, ?B/s]"
      ]
     },
     "metadata": {},
     "output_type": "display_data"
    },
    {
     "data": {
      "application/vnd.jupyter.widget-view+json": {
       "model_id": "40bee6d06148459186d91ff240286176",
       "version_major": 2,
       "version_minor": 0
      },
      "text/plain": [
       "tokenizer/tokenizer_config.json:   0%|          | 0.00/806 [00:00<?, ?B/s]"
      ]
     },
     "metadata": {},
     "output_type": "display_data"
    },
    {
     "data": {
      "application/vnd.jupyter.widget-view+json": {
       "model_id": "11969caa56ed4dc78ecaec47a5ece785",
       "version_major": 2,
       "version_minor": 0
      },
      "text/plain": [
       "(…)diffusion_pytorch_model.fp16.safetensors:   0%|          | 0.00/167M [00:00<?, ?B/s]"
      ]
     },
     "metadata": {},
     "output_type": "display_data"
    },
    {
     "data": {
      "application/vnd.jupyter.widget-view+json": {
       "model_id": "2c1c4f45d8b840bb8d447e8434d523d6",
       "version_major": 2,
       "version_minor": 0
      },
      "text/plain": [
       "Loading pipeline components...:   0%|          | 0/7 [00:00<?, ?it/s]"
      ]
     },
     "metadata": {},
     "output_type": "display_data"
    },
    {
     "name": "stderr",
     "output_type": "stream",
     "text": [
      "`text_config_dict` is provided which will be used to initialize `CLIPTextConfig`. The value `text_config[\"id2label\"]` will be overriden.\n",
      "`text_config_dict` is provided which will be used to initialize `CLIPTextConfig`. The value `text_config[\"bos_token_id\"]` will be overriden.\n",
      "`text_config_dict` is provided which will be used to initialize `CLIPTextConfig`. The value `text_config[\"eos_token_id\"]` will be overriden.\n"
     ]
    }
   ],
   "source": [
    "#Only ran this cell once to load model when \"Cuda\" was available.\n",
    "#sd_pipe = StableDiffusionPipeline.from_pretrained(\"runwayml/stable-diffusion-v1-5\",\n",
    "#                                                  torch_dtype=torch.float16,\n",
    "#                                                  variant=\"fp16\").to(\"cuda\")"
   ]
  },
  {
   "cell_type": "code",
   "execution_count": 6,
   "id": "28acb1a1",
   "metadata": {
    "executionInfo": {
     "elapsed": 27268,
     "status": "ok",
     "timestamp": 1749155300655,
     "user": {
      "displayName": "prabuddh rai",
      "userId": "13318045156076495622"
     },
     "user_tz": 300
    },
    "id": "28acb1a1"
   },
   "outputs": [],
   "source": [
    "#Initializing the required models\n",
    "llm = ChatOpenAI(model=\"gpt-3.5-turbo\", temperature=0.8)\n",
    "model_name = \"vidore/colqwen2-v1.0-hf\"\n",
    "Qwen2_model = ColQwen2ForRetrieval.from_pretrained(\n",
    "    model_name,\n",
    "    torch_dtype=torch.bfloat16,\n",
    ").to(\"cuda\")\n",
    "Qwen2_processor = ColQwen2Processor.from_pretrained(model_name)"
   ]
  },
  {
   "cell_type": "markdown",
   "id": "279300a6",
   "metadata": {
    "id": "279300a6"
   },
   "source": [
    "## LLM Prompt and Listing Generation <a id='LLM'></a>"
   ]
  },
  {
   "cell_type": "code",
   "execution_count": 7,
   "id": "48aa8b1c",
   "metadata": {
    "executionInfo": {
     "elapsed": 7,
     "status": "ok",
     "timestamp": 1749151035878,
     "user": {
      "displayName": "prabuddh rai",
      "userId": "13318045156076495622"
     },
     "user_tz": 300
    },
    "id": "48aa8b1c"
   },
   "outputs": [],
   "source": [
    "prompt_template = \"\"\"\n",
    "You are a helpful real estate assistant.\n",
    "\n",
    "Please generate a realistic real estate listing in the following format:\n",
    "Neighborhood: <neighborhood name>\n",
    "Price: <$xxx,xxx>\n",
    "Bedrooms: <int>\n",
    "Bathrooms: <int>\n",
    "House Size: <sqft>\n",
    "\n",
    "Description: <A paragraph with vivid and enticing details about the house>\n",
    "\n",
    "Neighborhood Description: <A paragraph that describes the neighborhood and nearby amenities>\n",
    "\"\"\""
   ]
  },
  {
   "cell_type": "code",
   "execution_count": 8,
   "id": "2becb569",
   "metadata": {
    "executionInfo": {
     "elapsed": 10,
     "status": "ok",
     "timestamp": 1749151037925,
     "user": {
      "displayName": "prabuddh rai",
      "userId": "13318045156076495622"
     },
     "user_tz": 300
    },
    "id": "2becb569"
   },
   "outputs": [],
   "source": [
    "def generate_listings(llm, prompt_template, n=10):\n",
    "    return [llm.invoke(prompt_template).content.strip() for _ in range(n)]"
   ]
  },
  {
   "cell_type": "markdown",
   "id": "c5598a0d",
   "metadata": {
    "id": "c5598a0d"
   },
   "source": [
    "## Saving Listings <a id='SAVING'></a>"
   ]
  },
  {
   "cell_type": "code",
   "execution_count": 9,
   "id": "5f56a2cc",
   "metadata": {
    "executionInfo": {
     "elapsed": 3,
     "status": "ok",
     "timestamp": 1749152351331,
     "user": {
      "displayName": "prabuddh rai",
      "userId": "13318045156076495622"
     },
     "user_tz": 300
    },
    "id": "5f56a2cc"
   },
   "outputs": [],
   "source": [
    "def save_listings_to_json(listings, filename=\"listings.json\"):\n",
    "    with open(filename, \"w\") as f:\n",
    "        json.dump(listings, f, indent=2)\n",
    "    return listings\n",
    "\n",
    "def load_listings_from_json(filename=\"listings.json\"):\n",
    "    with open(filename, \"r\") as f:\n",
    "        return json.load(f)"
   ]
  },
  {
   "cell_type": "markdown",
   "id": "e1e82552",
   "metadata": {
    "id": "e1e82552"
   },
   "source": [
    "## SD Prompt and Image Generation <a id='SD'></a>"
   ]
  },
  {
   "cell_type": "code",
   "execution_count": 10,
   "id": "fe7a60ab",
   "metadata": {
    "executionInfo": {
     "elapsed": 8,
     "status": "ok",
     "timestamp": 1749151043357,
     "user": {
      "displayName": "prabuddh rai",
      "userId": "13318045156076495622"
     },
     "user_tz": 300
    },
    "id": "fe7a60ab"
   },
   "outputs": [],
   "source": [
    "def parse_listing_strings(listing_strings):\n",
    "    parsed_listings = []\n",
    "\n",
    "    for listing_str in listing_strings:\n",
    "        # Split by newlines, filter out empty lines with ':'\n",
    "        lines = [line.strip() for line in listing_str.strip().split('\\n') if ':' in line]\n",
    "        listing = {}\n",
    "\n",
    "        for line in lines:\n",
    "            key, value = line.split(':', 1)\n",
    "            listing[key.strip()] = value.strip()\n",
    "\n",
    "        parsed_listings.append(listing)\n",
    "\n",
    "    return parsed_listings\n",
    "\n",
    "\n",
    "def generate_prompts(listing_strings):\n",
    "    parsed_listings = parse_listing_strings(listing_strings)\n",
    "    prompts = []\n",
    "\n",
    "    for listing in parsed_listings:\n",
    "        neighborhood = listing.get(\"Neighborhood\", \"a quiet neighborhood\")\n",
    "        bedrooms = listing.get(\"Bedrooms\", \"3\")\n",
    "        bathrooms = listing.get(\"Bathrooms\", \"2\")\n",
    "        size = listing.get(\"House Size\", \"1800 sqft\").replace(\"sqft\", \"square feet\")\n",
    "        description = listing.get(\"Description\", \"\").strip().replace(\"\\n\", \" \")\n",
    "        neighborhood_desc = listing.get(\"Neighborhood Description\", \"\").strip().replace(\"\\n\", \" \")\n",
    "\n",
    "        prompt = (\n",
    "            f\"Realistic, high-resolution exterior photo of a {bedrooms}-bedroom, {bathrooms}-bathroom home \"\n",
    "            f\"in {neighborhood}. The house is approximately {size}, with features such as {description}. \"\n",
    "            f\"Set in a picturesque neighborhood known for {neighborhood_desc}. \"\n",
    "            f\"Clear blue skies, natural lighting, professional real estate photography.\"\n",
    "        )\n",
    "\n",
    "        prompts.append(prompt)\n",
    "\n",
    "    return prompts"
   ]
  },
  {
   "cell_type": "code",
   "execution_count": 11,
   "id": "1e284352",
   "metadata": {
    "executionInfo": {
     "elapsed": 7,
     "status": "ok",
     "timestamp": 1749151047876,
     "user": {
      "displayName": "prabuddh rai",
      "userId": "13318045156076495622"
     },
     "user_tz": 300
    },
    "id": "1e284352"
   },
   "outputs": [],
   "source": [
    "#Generate and save images\n",
    "def generate_images(pipe,prompts,image_dir = \"listing_images\"):\n",
    "    os.makedirs(image_dir, exist_ok=True)\n",
    "    with torch.no_grad():\n",
    "        for i, prompt in enumerate(prompts):\n",
    "            try:\n",
    "                # Generate image using the pipeline\n",
    "                image = pipe(prompt).images[0]\n",
    "                \n",
    "                # Create a path to save the image\n",
    "                image_path = os.path.join(image_dir, f\"listing_{i}.png\")\n",
    "                \n",
    "                # Save the image\n",
    "                image.save(image_path)\n",
    "                \n",
    "                del image\n",
    "                torch.cuda.empty_cache()\n",
    "                gc.collect()\n",
    "                \n",
    "            except Exception as e:\n",
    "                print(f\"Error processing listing {i}: {e}\")      "
   ]
  },
  {
   "cell_type": "markdown",
   "id": "1b59b0d0",
   "metadata": {
    "id": "1b59b0d0"
   },
   "source": [
    "## Generate Image Embeddings<a id='IMAGE-EMBEDDINGS'></a>"
   ]
  },
  {
   "cell_type": "code",
   "execution_count": 12,
   "id": "9b2a3517",
   "metadata": {
    "executionInfo": {
     "elapsed": 5,
     "status": "ok",
     "timestamp": 1749156438928,
     "user": {
      "displayName": "prabuddh rai",
      "userId": "13318045156076495622"
     },
     "user_tz": 300
    },
    "id": "9b2a3517"
   },
   "outputs": [],
   "source": [
    "def generate_image_embeddings(processor, model, image_folder=\"listing_images\"):\n",
    "    image_embeddings = {}\n",
    "    image_paths = [os.path.join(image_folder, fname) for fname in os.listdir(image_folder) if fname.endswith(\".png\")]\n",
    "    for img_path in image_paths:\n",
    "        image = Image.open(img_path)\n",
    "        listing_key = img_path.split('/')[-1].split('.')[0]\n",
    "        input_image = processor(images=image).to(model.device)\n",
    "        with torch.no_grad():\n",
    "            image_emb = Qwen2_model(**input_image).embeddings\n",
    "            image_embeddings[listing_key] = image_emb.squeeze()[0].cpu().tolist()  # Convert tensor to list\n",
    "\n",
    "    return image_embeddings"
   ]
  },
  {
   "cell_type": "markdown",
   "id": "06e1e296",
   "metadata": {
    "id": "06e1e296"
   },
   "source": [
    "## Generate Text Embeddings<a id='TEXT-EMBEDDINGS'></a>"
   ]
  },
  {
   "cell_type": "code",
   "execution_count": 13,
   "id": "5cd58536",
   "metadata": {
    "executionInfo": {
     "elapsed": 35,
     "status": "ok",
     "timestamp": 1749156684227,
     "user": {
      "displayName": "prabuddh rai",
      "userId": "13318045156076495622"
     },
     "user_tz": 300
    },
    "id": "5cd58536"
   },
   "outputs": [],
   "source": [
    "def generate_text_embeddings(listings, processor, model):\n",
    "    text_embeddings = []\n",
    "\n",
    "    for text in listings:\n",
    "        input_text = processor(text=text).to(model.device)\n",
    "        with torch.no_grad():\n",
    "          text_emb = model(**input_text).embeddings.squeeze()[0].cpu().tolist()\n",
    "        text_embeddings.append(text_emb)\n",
    "\n",
    "    return text_embeddings"
   ]
  },
  {
   "cell_type": "markdown",
   "id": "87671802",
   "metadata": {},
   "source": [
    "## Combining Text+Image Embeddings<a id='COMBINED-EMBEDDINGS'></a>"
   ]
  },
  {
   "cell_type": "code",
   "execution_count": 14,
   "id": "b3fcc890",
   "metadata": {},
   "outputs": [],
   "source": [
    "def fused_embeddings_weighted(image_embeddings, text_embeddings, image_weight=0.45, text_weight=0.55):\n",
    "    fused_embeddings = {}\n",
    "    for i, text_emb in enumerate(text_embeddings):\n",
    "        listing_key = f\"listing_{i}\"\n",
    "        image_emb = image_embeddings[listing_key]\n",
    "        image_array = np.array(image_emb)\n",
    "        text_array = np.array(text_emb)\n",
    "        fused = text_weight*text_array + image_weight*image_array\n",
    "        fused_embeddings[listing_key] = fused.tolist()\n",
    "        \n",
    "    return fused_embeddings"
   ]
  },
  {
   "cell_type": "markdown",
   "id": "9b400626",
   "metadata": {
    "id": "9b400626"
   },
   "source": [
    "## Writing Listings to Database <a id='CHROMA-DB'></a>"
   ]
  },
  {
   "cell_type": "code",
   "execution_count": 15,
   "id": "1a706854",
   "metadata": {
    "executionInfo": {
     "elapsed": 46,
     "status": "ok",
     "timestamp": 1749157044659,
     "user": {
      "displayName": "prabuddh rai",
      "userId": "13318045156076495622"
     },
     "user_tz": 300
    },
    "id": "1a706854"
   },
   "outputs": [],
   "source": [
    "def write_to_chromadb(listings, text_embeddings, image_embeddings, fused_embeddings, persist_directory=\"./chroma_db\", collection_name=\"real_estate\"):\n",
    "    if os.path.exists(persist_directory):\n",
    "        shutil.rmtree(persist_directory)\n",
    "\n",
    "    os.makedirs(persist_directory, exist_ok=True)\n",
    "    client = chromadb.PersistentClient(persist_directory)\n",
    "    collection = client.create_collection(name=collection_name)\n",
    "\n",
    "    # Prepare metadata for each listing\n",
    "    ids = []\n",
    "    metadatas = []\n",
    "    fused_embeddings_list = []\n",
    "\n",
    "    for i, text_emb in enumerate(text_embeddings):\n",
    "        listing_key = f\"listing_{i}\"\n",
    "        image_emb = image_embeddings[listing_key]\n",
    "        fused_emb = fused_embeddings[listing_key]\n",
    "            \n",
    "        ids.append(listing_key)\n",
    "        # Serialize the list into JSON so metadata value is a str\n",
    "        image_embed_json = json.dumps(image_emb)\n",
    "        metadatas.append({\n",
    "            \"listing_id\": listing_key,\n",
    "            \"image_embedding_json\": image_embed_json\n",
    "        })\n",
    "        fused_embeddings_list.append(fused_emb)\n",
    "\n",
    "    # Add listings and embeddings to the database\n",
    "    collection.add(\n",
    "        documents=listings,\n",
    "        embeddings=fused_embeddings_list,\n",
    "        metadatas=metadatas,\n",
    "        ids=ids,\n",
    "    )\n",
    "    return collection"
   ]
  },
  {
   "cell_type": "markdown",
   "id": "2f22bd6d",
   "metadata": {
    "id": "2f22bd6d"
   },
   "source": [
    "## Getting Buyer Profile <a id='PROFILE'></a>"
   ]
  },
  {
   "cell_type": "code",
   "execution_count": 22,
   "id": "edfe9dd0",
   "metadata": {
    "executionInfo": {
     "elapsed": 41,
     "status": "ok",
     "timestamp": 1749156870368,
     "user": {
      "displayName": "prabuddh rai",
      "userId": "13318045156076495622"
     },
     "user_tz": 300
    },
    "id": "edfe9dd0"
   },
   "outputs": [],
   "source": [
    "def get_buyer_profile():\n",
    "    buyer_questions = [\n",
    "        \"How big do you want your house to be?\",\n",
    "        \"What are 3 most important things for you in choosing this property?\",\n",
    "        \"Which amenities would you like?\",\n",
    "        \"Which transportation options are important to you?\",\n",
    "        \"How urban do you want your neighborhood to be?\",\n",
    "    ]\n",
    "    answers = [input(q + \" \") for q in buyer_questions]\n",
    "    return \" \".join(answers)"
   ]
  },
  {
   "cell_type": "markdown",
   "id": "813c0b67",
   "metadata": {
    "id": "813c0b67"
   },
   "source": [
    "## Generate Personalized Listings <a id='P-LISTINGS'></a>"
   ]
  },
  {
   "cell_type": "code",
   "execution_count": 56,
   "id": "75d3a4f4",
   "metadata": {
    "id": "75d3a4f4"
   },
   "outputs": [],
   "source": [
    "def personalize_listings(llm, db, buyer_profile, k=3):\n",
    "    buyer_embeddings = generate_text_embeddings(buyer_profile, Qwen2_processor, Qwen2_model)\n",
    "    results = db.query(query_embeddings=buyer_embeddings[0],n_results=k)\n",
    "    personalized = {}\n",
    "\n",
    "    for idx, res in zip(results['ids'][0], results['documents'][0]):\n",
    "        prompt = f\"\"\" \n",
    "You are a helpful real estate assistant.\n",
    "\n",
    "Buyer's Preferences:\n",
    "{buyer_profile}\n",
    "\n",
    "Original Listing:\n",
    "{res}\n",
    "\n",
    "Please rewrite the original description and neighborhood description to subtly emphasize aspects aligned with the buyer's preferences, without changing facts.\n",
    "\"\"\"\n",
    "        personalized[idx] = llm.invoke(prompt).content.strip()\n",
    "\n",
    "    return personalized"
   ]
  },
  {
   "cell_type": "markdown",
   "id": "5449e053",
   "metadata": {},
   "source": [
    "## Saving Personalized Listings <a id='SP-LISTINGS'></a>"
   ]
  },
  {
   "cell_type": "code",
   "execution_count": 64,
   "id": "df8c2a6a",
   "metadata": {},
   "outputs": [],
   "source": [
    "def save_personalized_listings(personalized, output_file='personalized_listings.json'):\n",
    "    \"\"\"\n",
    "    Save the personalized listings to a JSON file.\n",
    "\n",
    "    Args:\n",
    "        personalized (dict): The dictionary with personalized listings.\n",
    "        output_file (str): File path to save the output.\n",
    "    \"\"\"\n",
    "    with open(output_file, \"w\") as f:\n",
    "        json.dump(personalized, f)"
   ]
  },
  {
   "cell_type": "markdown",
   "id": "5e1878ac",
   "metadata": {
    "id": "5e1878ac"
   },
   "source": [
    "## Execution Blocks <a id='BLOCKS'></a>\n",
    "### Blocks that only need to run once and then results can be saved and used later "
   ]
  },
  {
   "cell_type": "code",
   "execution_count": 13,
   "id": "2079c100",
   "metadata": {},
   "outputs": [
    {
     "name": "stdout",
     "output_type": "stream",
     "text": [
      "🔧 Step 1: Generating real estate listings using the language model...\n",
      "💾 Step 2: Saved listings to a JSON file...\n"
     ]
    }
   ],
   "source": [
    "print(\"🔧 Step 1: Generating real estate listings using the language model...\")\n",
    "listings = generate_listings(llm, prompt_template)\n",
    "\n",
    "print(\"💾 Step 2: Saved listings to a JSON file...\")\n",
    "listings = save_listings_to_json(listings)"
   ]
  },
  {
   "cell_type": "code",
   "execution_count": 10,
   "id": "a6c28465",
   "metadata": {},
   "outputs": [
    {
     "name": "stdout",
     "output_type": "stream",
     "text": [
      "🖼️ Step 3: Generating image prompts...\n"
     ]
    }
   ],
   "source": [
    "print(\"🖼️ Step 3: Generating image prompts...\")\n",
    "prompts = generate_prompts(listings)"
   ]
  },
  {
   "cell_type": "code",
   "execution_count": 16,
   "id": "8bb127ea",
   "metadata": {},
   "outputs": [
    {
     "name": "stderr",
     "output_type": "stream",
     "text": [
      "The following part of your input was truncated because CLIP can only handle sequences up to 77 tokens: [\"cozy living room, updated kitchen with granite countertops and stainless steel appliances, and a bright dining area overlooking the backyard. the master bedroom offers a private retreat with a walk - in closet and en - suite bathroom. the backyard is perfect for entertaining with a patio, lush lawn, and mature trees for added privacy.. set in a picturesque neighborhood known for oakwood estates is a family - friendly neighborhood known for its peaceful atmosphere and close - knit community. residents enjoy easy access to nearby parks, schools, and shopping centers. the neighborhood is conveniently located near major highways, making it a great choice for commuters. don 't miss out on the opportunity to make this lovely home yours in oakwood estates.. clear blue skies, natural lighting, professional real estate photography.\"]\n"
     ]
    },
    {
     "name": "stdout",
     "output_type": "stream",
     "text": [
      "🧩 Step 4: Generating images using Stable Diffusion pipeline...\n"
     ]
    },
    {
     "data": {
      "application/vnd.jupyter.widget-view+json": {
       "model_id": "ef96d0a3ca6a44dba3a813e38f8303fb",
       "version_major": 2,
       "version_minor": 0
      },
      "text/plain": [
       "  0%|          | 0/50 [00:00<?, ?it/s]"
      ]
     },
     "metadata": {},
     "output_type": "display_data"
    },
    {
     "name": "stderr",
     "output_type": "stream",
     "text": [
      "The following part of your input was truncated because CLIP can only handle sequences up to 77 tokens: [\"with stainless steel appliances, and a separate dining area perfect for entertaining guests. the master bedroom features an ensuite bathroom with a luxurious soaking tub, perfect for unwinding after a long day. step outside to the beautifully landscaped backyard with a patio area, ideal for enjoying the california sunshine. with hardwood floors throughout, ample storage space, and a 2 - car garage, this home is perfect for comfortable and convenient living.. set in a picturesque neighborhood known for westwood hills is known for its tree - lined streets, family - friendly atmosphere, and proximity to top - rated schools. residents enjoy easy access to hiking trails, parks, and shopping centers, making it a sought - after location for families and professionals alike. with a short drive to downtown and close proximity to major freeways, this neighborhood offers the perfect balance of tranquility and convenience. don 't miss out on the opportunity to make this lovely home your own in the highly desirable westwood hills neighborhood.. clear blue skies, natural lighting, professional real estate photography.\"]\n"
     ]
    },
    {
     "data": {
      "application/vnd.jupyter.widget-view+json": {
       "model_id": "fd16cb25ba204e0ca7bbc9bd118cb811",
       "version_major": 2,
       "version_minor": 0
      },
      "text/plain": [
       "  0%|          | 0/50 [00:00<?, ?it/s]"
      ]
     },
     "metadata": {},
     "output_type": "display_data"
    },
    {
     "name": "stderr",
     "output_type": "stream",
     "text": [
      "The following part of your input was truncated because CLIP can only handle sequences up to 77 tokens: ['steel appliances, and a dining area perfect for entertaining. the master bedroom boasts an en - suite bathroom and ample closet space. the backyard is a private oasis with a patio and lush landscaping, ideal for enjoying the outdoors. with hardwood floors throughout and plenty of natural light, this home is move - in ready.. set in a picturesque neighborhood known for forest hills is known for its tree - lined streets, family - friendly atmosphere, and proximity to parks and recreational activities. residents enjoy easy access to hiking trails, shopping centers, and top - rated schools. the neighborhood also features a vibrant dining scene with trendy restaurants and cafes. with its convenient location and welcoming community, forest hills is a sought - after place to call home.. clear blue skies, natural lighting, professional real estate photography.']\n"
     ]
    },
    {
     "data": {
      "application/vnd.jupyter.widget-view+json": {
       "model_id": "a65bfadcc78345baac951439782fc4d1",
       "version_major": 2,
       "version_minor": 0
      },
      "text/plain": [
       "  0%|          | 0/50 [00:00<?, ?it/s]"
      ]
     },
     "metadata": {},
     "output_type": "display_data"
    },
    {
     "name": "stderr",
     "output_type": "stream",
     "text": [
      "The following part of your input was truncated because CLIP can only handle sequences up to 77 tokens: ['- line appliances, and a spacious living area with a cozy fireplace. the master suite boasts a spa - like bathroom and a private balcony overlooking the hollywood sign. the outdoor space is perfect for entertaining with a large deck, infinity pool, and built - in barbecue area.. set in a picturesque neighborhood known for hollywood hills is known for its exclusive homes, celebrity residents, and iconic views of the city. this property is just minutes away from the trendy shops and restaurants of sunset boulevard and the excitement of hollywood. residents can enjoy hiking in nearby runyon canyon or taking a short drive to the beaches of santa monica. with its prime location and luxurious amenities, this home offers the ultimate hollywood lifestyle.. clear blue skies, natural lighting, professional real estate photography.']\n"
     ]
    },
    {
     "data": {
      "application/vnd.jupyter.widget-view+json": {
       "model_id": "54bae1254ca84192888733a407fda667",
       "version_major": 2,
       "version_minor": 0
      },
      "text/plain": [
       "  0%|          | 0/50 [00:00<?, ?it/s]"
      ]
     },
     "metadata": {},
     "output_type": "display_data"
    },
    {
     "name": "stderr",
     "output_type": "stream",
     "text": [
      "The following part of your input was truncated because CLIP can only handle sequences up to 77 tokens: [\"and a dining area perfect for entertaining guests. upstairs, you 'll find three well - appointed bedrooms with ample closet space and two full bathrooms. the lower level offers a cozy family room and a laundry room. the private backyard is a serene oasis, ideal for relaxing or hosting summer bbqs.. set in a picturesque neighborhood known for park slope is known for its tree - lined streets, trendy boutiques, and top - rated restaurants. prospect park is just a short walk away, offering plenty of outdoor recreational activities. the neighborhood also boasts excellent schools, convenient access to public transportation, and a vibrant community atmosphere. don 't miss this opportunity to own a piece of brooklyn's most coveted neighborhood.. clear blue skies, natural lighting, professional real estate photography.\"]\n"
     ]
    },
    {
     "data": {
      "application/vnd.jupyter.widget-view+json": {
       "model_id": "9fbce5977b474fc2a638f10af0c30d69",
       "version_major": 2,
       "version_minor": 0
      },
      "text/plain": [
       "  0%|          | 0/50 [00:00<?, ?it/s]"
      ]
     },
     "metadata": {},
     "output_type": "display_data"
    },
    {
     "name": "stderr",
     "output_type": "stream",
     "text": [
      "The following part of your input was truncated because CLIP can only handle sequences up to 77 tokens: ['that fill the space with natural light. the updated kitchen boasts stainless steel appliances, granite countertops, and a breakfast bar. the master suite includes a private balcony overlooking the beautifully landscaped backyard, perfect for enjoying morning coffee or evening sunsets. additional features include hardwood floors throughout, a formal dining room, and a detached garage.. set in a picturesque neighborhood known for pacific heights is known for its upscale and elegant feel, with tree - lined streets, stunning views of the san francisco bay, and proximity to top - rated schools. residents enjoy easy access to boutique shops, upscale restaurants, and iconic landmarks like the presidio and golden gate park. with its combination of luxury homes and vibrant community, pacific heights offers a truly unmatched living experience in san francisco.. clear blue skies, natural lighting, professional real estate photography.']\n"
     ]
    },
    {
     "data": {
      "application/vnd.jupyter.widget-view+json": {
       "model_id": "892d0e6d861e4eb8828aa24047c444c9",
       "version_major": 2,
       "version_minor": 0
      },
      "text/plain": [
       "  0%|          | 0/50 [00:00<?, ?it/s]"
      ]
     },
     "metadata": {},
     "output_type": "display_data"
    },
    {
     "name": "stderr",
     "output_type": "stream",
     "text": [
      "The following part of your input was truncated because CLIP can only handle sequences up to 77 tokens: ['stainless steel appliances, and a spacious living room with a cozy fireplace. the master suite boasts a luxurious en - suite bathroom with a soaking tub and a walk - in closet. step outside to the private backyard oasis complete with a deck, perfect for entertaining guests or enjoying a quiet evening under the stars.. set in a picturesque neighborhood known for west hollywood is known for its vibrant nightlife, trendy shops, and delicious restaurants. this home is conveniently located near sunset strip, melrose avenue, and santa monica boulevard, offering a variety of entertainment options and dining experiences. enjoy easy access to parks, fitness studios, and grocery stores, making it a desirable location for those seeking a lively and dynamic lifestyle.. clear blue skies, natural lighting, professional real estate photography.']\n"
     ]
    },
    {
     "data": {
      "application/vnd.jupyter.widget-view+json": {
       "model_id": "498a939df8754ea1a930aab5598a8554",
       "version_major": 2,
       "version_minor": 0
      },
      "text/plain": [
       "  0%|          | 0/50 [00:00<?, ?it/s]"
      ]
     },
     "metadata": {},
     "output_type": "display_data"
    },
    {
     "name": "stderr",
     "output_type": "stream",
     "text": [
      "The following part of your input was truncated because CLIP can only handle sequences up to 77 tokens: ['tops and stainless steel appliances, and a master suite with a walk - in closet and ensuite bathroom. the backyard is perfect for entertaining with a covered patio and lush greenery. with fresh paint and new flooring throughout, this home is move - in ready and waiting for its new owners to make it their own.. set in a picturesque neighborhood known for willow creek is a family - friendly neighborhood with tree - lined streets and well - maintained homes. the community offers a park with playgrounds and walking trails, perfect for outdoor activities. nearby amenities include shopping centers, restaurants, and top - rated schools, making it an ideal place to call home for families and professionals alike. with easy access to major highways, commuting to downtown and other parts of the city is a breeze.. clear blue skies, natural lighting, professional real estate photography.']\n"
     ]
    },
    {
     "data": {
      "application/vnd.jupyter.widget-view+json": {
       "model_id": "5e5698e6115f47d4a8f6c32e7c59c575",
       "version_major": 2,
       "version_minor": 0
      },
      "text/plain": [
       "  0%|          | 0/50 [00:00<?, ?it/s]"
      ]
     },
     "metadata": {},
     "output_type": "display_data"
    },
    {
     "name": "stderr",
     "output_type": "stream",
     "text": [
      "The following part of your input was truncated because CLIP can only handle sequences up to 77 tokens: ['large windows that flood the space with natural light. the gourmet kitchen is equipped with stainless steel appliances, quartz countertops, and a spacious island. the master bedroom boasts a walk - in closet and a luxurious en - suite bathroom with a soaking tub and separate shower. the backyard oasis includes a deck, perfect for outdoor dining, and a lush lawn, ideal for relaxing or entertaining.. set in a picturesque neighborhood known for larchmont village is a highly sought - after neighborhood known for its tree - lined streets, historic homes, and vibrant community. residents enjoy strolling to the nearby shops, cafes, and restaurants on larchmont boulevard. this prime location also offers easy access to hancock park, hollywood, and downtown la, making it a convenient and desirable place to call home.. clear blue skies, natural lighting, professional real estate photography.']\n"
     ]
    },
    {
     "data": {
      "application/vnd.jupyter.widget-view+json": {
       "model_id": "d04db0ed4afb453da6ae9f90d206d672",
       "version_major": 2,
       "version_minor": 0
      },
      "text/plain": [
       "  0%|          | 0/50 [00:00<?, ?it/s]"
      ]
     },
     "metadata": {},
     "output_type": "display_data"
    },
    {
     "name": "stderr",
     "output_type": "stream",
     "text": [
      "The following part of your input was truncated because CLIP can only handle sequences up to 77 tokens: [\"stainless steel appliances, and a large backyard perfect for entertaining. the master bedroom boasts an en - suite bathroom and walk - in closet, while the other bedrooms offer ample space and natural light. with hardwood floors throughout, a two - car garage, and a convenient location near shops and restaurants, this house is a perfect place to call home.. set in a picturesque neighborhood known for sunset heights is a vibrant and family - friendly neighborhood known for its tree - lined streets and close - knit community. residents enjoy easy access to parks, schools, and public transportation, making it a convenient location for families and commuters alike. with trendy cafes, boutiques, and local markets just a short walk away, sunset heights offers the perfect blend of urban convenience and suburban charm. don 't miss out on this opportunity to live in one of the most sought - after neighborhoods in the area!. clear blue skies, natural lighting, professional real estate photography.\"]\n"
     ]
    },
    {
     "data": {
      "application/vnd.jupyter.widget-view+json": {
       "model_id": "d2fa2e16f5e7418b9461d174c9e099f3",
       "version_major": 2,
       "version_minor": 0
      },
      "text/plain": [
       "  0%|          | 0/50 [00:00<?, ?it/s]"
      ]
     },
     "metadata": {},
     "output_type": "display_data"
    },
    {
     "name": "stdout",
     "output_type": "stream",
     "text": [
      "🧩 Step 4 Complete: Images have been saved!\n"
     ]
    }
   ],
   "source": [
    "print(\"🧩 Step 4: Generating images using Stable Diffusion pipeline...\")\n",
    "generate_images(sd_pipe, prompts)\n",
    "print(\"🧩 Step 4 Complete: Images have been saved!\")"
   ]
  },
  {
   "cell_type": "code",
   "execution_count": 17,
   "id": "e82083c6",
   "metadata": {},
   "outputs": [
    {
     "name": "stdout",
     "output_type": "stream",
     "text": [
      "🧠 Step 5: Generating image embeddings using Qwen2 model...\n",
      "📝 Step 6: Generating text embeddings for listings...\n"
     ]
    }
   ],
   "source": [
    "print(\"🧠 Step 5: Generating image embeddings using Qwen2 model...\")\n",
    "image_embeddings = generate_image_embeddings(Qwen2_processor, Qwen2_model)\n",
    "\n",
    "print(\"📝 Step 6: Generating text embeddings for listings...\")\n",
    "text_embeddings = generate_text_embeddings(listings, Qwen2_processor, Qwen2_model)"
   ]
  },
  {
   "cell_type": "code",
   "execution_count": 18,
   "id": "4c4b88ef",
   "metadata": {},
   "outputs": [
    {
     "name": "stdout",
     "output_type": "stream",
     "text": [
      "📝 Step 7: Generating fused embeddings using text and image embeddings...\n"
     ]
    }
   ],
   "source": [
    "print(\"📝 Step 7: Generating fused embeddings using text and image embeddings...\")\n",
    "fused_embeddings = fused_embeddings_weighted(image_embeddings, text_embeddings, image_weight=0.45, text_weight=0.55)"
   ]
  },
  {
   "cell_type": "code",
   "execution_count": 19,
   "id": "a82f5996",
   "metadata": {},
   "outputs": [
    {
     "name": "stdout",
     "output_type": "stream",
     "text": [
      "💾 Step 8: Saving listings and embeddings to ChromaDB...\n",
      "🎉 Listings successfully saved to ChromaDB.\n"
     ]
    }
   ],
   "source": [
    "print(\"💾 Step 8: Saving listings and embeddings to ChromaDB...\")\n",
    "db = write_to_chromadb(listings, text_embeddings, image_embeddings, fused_embeddings)\n",
    "print(\"🎉 Listings successfully saved to ChromaDB.\")"
   ]
  },
  {
   "cell_type": "markdown",
   "id": "0e914105",
   "metadata": {},
   "source": [
    "## Main Execution Block <a id='MAIN'></a>\n",
    "### Blocks that can be run multiple times"
   ]
  },
  {
   "cell_type": "code",
   "execution_count": 66,
   "id": "c16623aa",
   "metadata": {},
   "outputs": [],
   "source": [
    "def main():\n",
    "    print(\"🔍 Step 9: Retrieving information from ChromaDB...\")\n",
    "    #Only run this when db is already available\n",
    "    #And if you run this, please replace db with collection in the code ahead\n",
    "    #client = chromadb.PersistentClient(path=\"chromadb\")\n",
    "    #collection = client.get_collection(\"real_estate\", embedding_function=None)\n",
    "    \n",
    "    print(\"👤 Step 10: Getting buyer profile input...\")\n",
    "    buyer_profile = get_buyer_profile()\n",
    "    \n",
    "    print(\"✨ Step 11: Personalizing listings based on buyer profile...\")\n",
    "    personalized = personalize_listings(llm, db, buyer_profile)\n",
    "    \n",
    "    print(\"💾 Step 12: Saving personalized listings to output file...\")\n",
    "    save_personalized_listings(personalized)\n",
    "\n",
    "    print(\"🎉 Personalized listings saved successfully.\")"
   ]
  },
  {
   "cell_type": "code",
   "execution_count": 67,
   "id": "c01b2076",
   "metadata": {},
   "outputs": [
    {
     "name": "stdout",
     "output_type": "stream",
     "text": [
      "🔍 Step 9: Retrieving information from ChromaDB...\n",
      "👤 Step 10: Getting buyer profile input...\n",
      "How big do you want your house to be? comfortable three-bedroom house with a spacious kitchen and a cozy living room.\n",
      "What are 3 most important things for you in choosing this property? quiet neighborhood, good local schools, and convenient shopping options.\n",
      "Which amenities would you like? backyard for gardening, a two-car garage, and a modern, energy-efficient heating system.\n",
      "Which transportation options are important to you? Easy access to a reliable bus line, proximity to a major highway, and bike-friendly roads.\n",
      "How urban do you want your neighborhood to be? A balance between suburban tranquility and access to urban amenities like restaurants and theaters.\n",
      "✨ Step 11: Personalizing listings based on buyer profile...\n",
      "💾 Step 12: Saving personalized listings to output file...\n",
      "🎉 Personalized listings saved successfully.\n"
     ]
    }
   ],
   "source": [
    "if __name__ == \"__main__\":\n",
    "    main()"
   ]
  },
  {
   "cell_type": "code",
   "execution_count": 18,
   "id": "b968f3a0",
   "metadata": {
    "id": "b968f3a0"
   },
   "outputs": [
    {
     "name": "stderr",
     "output_type": "stream",
     "text": [
      "huggingface/tokenizers: The current process just got forked, after parallelism has already been used. Disabling parallelism to avoid deadlocks...\n",
      "To disable this warning, you can either:\n",
      "\t- Avoid using `tokenizers` before the fork if possible\n",
      "\t- Explicitly set the environment variable TOKENIZERS_PARALLELISM=(true | false)\n"
     ]
    }
   ],
   "source": []
  },
  {
   "cell_type": "code",
   "execution_count": null,
   "id": "93dca04f",
   "metadata": {},
   "outputs": [],
   "source": []
  }
 ],
 "metadata": {
  "colab": {
   "provenance": []
  },
  "kernelspec": {
   "display_name": "Python 3 (ipykernel)",
   "language": "python",
   "name": "python3"
  },
  "language_info": {
   "codemirror_mode": {
    "name": "ipython",
    "version": 3
   },
   "file_extension": ".py",
   "mimetype": "text/x-python",
   "name": "python",
   "nbconvert_exporter": "python",
   "pygments_lexer": "ipython3",
   "version": "3.10.11"
  }
 },
 "nbformat": 4,
 "nbformat_minor": 5
}
